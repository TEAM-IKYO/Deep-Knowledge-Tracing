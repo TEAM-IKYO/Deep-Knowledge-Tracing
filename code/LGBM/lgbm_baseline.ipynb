{
 "cells": [
  {
   "cell_type": "markdown",
   "metadata": {},
   "source": [
    "## LGBM Baseline"
   ]
  },
  {
   "cell_type": "code",
   "execution_count": 1,
   "metadata": {
    "ExecuteTime": {
     "end_time": "2021-05-24T09:49:29.375544Z",
     "start_time": "2021-05-24T09:49:28.999092Z"
    }
   },
   "outputs": [],
   "source": [
    "import pandas as pd\n",
    "import os\n",
    "import random\n",
    "import warnings\n",
    "import lightgbm as lgb\n",
    "from wandb.lightgbm import wandb_callback\n",
    "from sklearn.metrics import roc_auc_score\n",
    "from sklearn.metrics import accuracy_score\n",
    "from tqdm import tqdm\n",
    "import numpy as np\n",
    "import random\n",
    "from matplotlib import pylab as plt\n",
    "from lgbm_function import inference, set_params, custom_train_test_split\n",
    "from feature_engineering import feature_engineering_sun\n",
    "from bayes_opt import BayesianOptimization\n",
    "from datetime import datetime\n",
    "import wandb\n",
    "from sklearn.model_selection import StratifiedKFold\n",
    "from sklearn.discriminant_analysis import LinearDiscriminantAnalysis as LDA\n",
    "\n",
    "%matplotlib inline\n",
    "warnings.filterwarnings('ignore')"
   ]
  },
  {
   "cell_type": "markdown",
   "metadata": {},
   "source": [
    "### Data Load & Preprocessing\n",
    "- validation data answer의 정보가 모델에 학습되는 것을 방지\n",
    "- inference 단계와 동일하게 user mean을 기준으로 random하게 값을 지정\n",
    "- train할 때 마지막 random하게 지정한 값은 제외\n",
    "- test, validation의 마지막 값을 제외한 모든 행을 학습에 사용"
   ]
  },
  {
   "cell_type": "code",
   "execution_count": 2,
   "metadata": {
    "ExecuteTime": {
     "end_time": "2021-05-24T09:49:29.678737Z",
     "start_time": "2021-05-24T09:49:29.376581Z"
    }
   },
   "outputs": [
    {
     "name": "stdout",
     "output_type": "stream",
     "text": [
      "(2266586, 8)\n"
     ]
    },
    {
     "data": {
      "text/html": [
       "<div>\n",
       "<style scoped>\n",
       "    .dataframe tbody tr th:only-of-type {\n",
       "        vertical-align: middle;\n",
       "    }\n",
       "\n",
       "    .dataframe tbody tr th {\n",
       "        vertical-align: top;\n",
       "    }\n",
       "\n",
       "    .dataframe thead th {\n",
       "        text-align: right;\n",
       "    }\n",
       "</style>\n",
       "<table border=\"1\" class=\"dataframe\">\n",
       "  <thead>\n",
       "    <tr style=\"text-align: right;\">\n",
       "      <th></th>\n",
       "      <th>userID</th>\n",
       "      <th>assessmentItemID</th>\n",
       "      <th>testId</th>\n",
       "      <th>answerCode</th>\n",
       "      <th>Timestamp</th>\n",
       "      <th>KnowledgeTag</th>\n",
       "      <th>next_userID</th>\n",
       "      <th>is_test_data</th>\n",
       "    </tr>\n",
       "  </thead>\n",
       "  <tbody>\n",
       "    <tr>\n",
       "      <th>0</th>\n",
       "      <td>0</td>\n",
       "      <td>A060001001</td>\n",
       "      <td>A060000001</td>\n",
       "      <td>1</td>\n",
       "      <td>2020-03-24 00:17:11</td>\n",
       "      <td>7224</td>\n",
       "      <td>0.0</td>\n",
       "      <td>False</td>\n",
       "    </tr>\n",
       "    <tr>\n",
       "      <th>1</th>\n",
       "      <td>0</td>\n",
       "      <td>A060001002</td>\n",
       "      <td>A060000001</td>\n",
       "      <td>1</td>\n",
       "      <td>2020-03-24 00:17:14</td>\n",
       "      <td>7225</td>\n",
       "      <td>0.0</td>\n",
       "      <td>False</td>\n",
       "    </tr>\n",
       "    <tr>\n",
       "      <th>2</th>\n",
       "      <td>0</td>\n",
       "      <td>A060001003</td>\n",
       "      <td>A060000001</td>\n",
       "      <td>1</td>\n",
       "      <td>2020-03-24 00:17:22</td>\n",
       "      <td>7225</td>\n",
       "      <td>0.0</td>\n",
       "      <td>False</td>\n",
       "    </tr>\n",
       "    <tr>\n",
       "      <th>3</th>\n",
       "      <td>0</td>\n",
       "      <td>A060001004</td>\n",
       "      <td>A060000001</td>\n",
       "      <td>1</td>\n",
       "      <td>2020-03-24 00:17:29</td>\n",
       "      <td>7225</td>\n",
       "      <td>0.0</td>\n",
       "      <td>False</td>\n",
       "    </tr>\n",
       "    <tr>\n",
       "      <th>4</th>\n",
       "      <td>0</td>\n",
       "      <td>A060001005</td>\n",
       "      <td>A060000001</td>\n",
       "      <td>1</td>\n",
       "      <td>2020-03-24 00:17:36</td>\n",
       "      <td>7225</td>\n",
       "      <td>0.0</td>\n",
       "      <td>False</td>\n",
       "    </tr>\n",
       "  </tbody>\n",
       "</table>\n",
       "</div>"
      ],
      "text/plain": [
       "   userID assessmentItemID      testId  answerCode           Timestamp  \\\n",
       "0       0       A060001001  A060000001           1 2020-03-24 00:17:11   \n",
       "1       0       A060001002  A060000001           1 2020-03-24 00:17:14   \n",
       "2       0       A060001003  A060000001           1 2020-03-24 00:17:22   \n",
       "3       0       A060001004  A060000001           1 2020-03-24 00:17:29   \n",
       "4       0       A060001005  A060000001           1 2020-03-24 00:17:36   \n",
       "\n",
       "   KnowledgeTag  next_userID  is_test_data  \n",
       "0          7224          0.0         False  \n",
       "1          7225          0.0         False  \n",
       "2          7225          0.0         False  \n",
       "3          7225          0.0         False  \n",
       "4          7225          0.0         False  "
      ]
     },
     "execution_count": 2,
     "metadata": {},
     "output_type": "execute_result"
    }
   ],
   "source": [
    "data_dir = '/opt/ml/input/data/train_dataset'\n",
    "train_csv_file_path = os.path.join(data_dir, 'train_data.csv')\n",
    "train_df = pd.read_csv(train_csv_file_path, parse_dates=['Timestamp'])\n",
    "train_df[\"next_userID\"] = train_df['userID'].shift(-1)\n",
    "train_df[\"is_test_data\"] = False\n",
    "print(train_df.shape)\n",
    "train_df.head(5)"
   ]
  },
  {
   "cell_type": "code",
   "execution_count": 3,
   "metadata": {},
   "outputs": [
    {
     "name": "stdout",
     "output_type": "stream",
     "text": [
      "(259370, 8)\n"
     ]
    },
    {
     "data": {
      "text/html": [
       "<div>\n",
       "<style scoped>\n",
       "    .dataframe tbody tr th:only-of-type {\n",
       "        vertical-align: middle;\n",
       "    }\n",
       "\n",
       "    .dataframe tbody tr th {\n",
       "        vertical-align: top;\n",
       "    }\n",
       "\n",
       "    .dataframe thead th {\n",
       "        text-align: right;\n",
       "    }\n",
       "</style>\n",
       "<table border=\"1\" class=\"dataframe\">\n",
       "  <thead>\n",
       "    <tr style=\"text-align: right;\">\n",
       "      <th></th>\n",
       "      <th>userID</th>\n",
       "      <th>assessmentItemID</th>\n",
       "      <th>testId</th>\n",
       "      <th>answerCode</th>\n",
       "      <th>Timestamp</th>\n",
       "      <th>KnowledgeTag</th>\n",
       "      <th>next_userID</th>\n",
       "      <th>is_test_data</th>\n",
       "    </tr>\n",
       "  </thead>\n",
       "  <tbody>\n",
       "    <tr>\n",
       "      <th>0</th>\n",
       "      <td>3</td>\n",
       "      <td>A050023001</td>\n",
       "      <td>A050000023</td>\n",
       "      <td>1</td>\n",
       "      <td>2020-01-09 10:56:31</td>\n",
       "      <td>2626</td>\n",
       "      <td>3.0</td>\n",
       "      <td>False</td>\n",
       "    </tr>\n",
       "    <tr>\n",
       "      <th>1</th>\n",
       "      <td>3</td>\n",
       "      <td>A050023002</td>\n",
       "      <td>A050000023</td>\n",
       "      <td>1</td>\n",
       "      <td>2020-01-09 10:56:57</td>\n",
       "      <td>2626</td>\n",
       "      <td>3.0</td>\n",
       "      <td>False</td>\n",
       "    </tr>\n",
       "    <tr>\n",
       "      <th>2</th>\n",
       "      <td>3</td>\n",
       "      <td>A050023003</td>\n",
       "      <td>A050000023</td>\n",
       "      <td>0</td>\n",
       "      <td>2020-01-09 10:58:31</td>\n",
       "      <td>2625</td>\n",
       "      <td>3.0</td>\n",
       "      <td>False</td>\n",
       "    </tr>\n",
       "    <tr>\n",
       "      <th>3</th>\n",
       "      <td>3</td>\n",
       "      <td>A050023004</td>\n",
       "      <td>A050000023</td>\n",
       "      <td>0</td>\n",
       "      <td>2020-01-09 10:58:36</td>\n",
       "      <td>2625</td>\n",
       "      <td>3.0</td>\n",
       "      <td>False</td>\n",
       "    </tr>\n",
       "    <tr>\n",
       "      <th>4</th>\n",
       "      <td>3</td>\n",
       "      <td>A050023006</td>\n",
       "      <td>A050000023</td>\n",
       "      <td>0</td>\n",
       "      <td>2020-01-09 10:58:43</td>\n",
       "      <td>2623</td>\n",
       "      <td>3.0</td>\n",
       "      <td>False</td>\n",
       "    </tr>\n",
       "  </tbody>\n",
       "</table>\n",
       "</div>"
      ],
      "text/plain": [
       "   userID assessmentItemID      testId  answerCode           Timestamp  \\\n",
       "0       3       A050023001  A050000023           1 2020-01-09 10:56:31   \n",
       "1       3       A050023002  A050000023           1 2020-01-09 10:56:57   \n",
       "2       3       A050023003  A050000023           0 2020-01-09 10:58:31   \n",
       "3       3       A050023004  A050000023           0 2020-01-09 10:58:36   \n",
       "4       3       A050023006  A050000023           0 2020-01-09 10:58:43   \n",
       "\n",
       "   KnowledgeTag  next_userID  is_test_data  \n",
       "0          2626          3.0         False  \n",
       "1          2626          3.0         False  \n",
       "2          2625          3.0         False  \n",
       "3          2625          3.0         False  \n",
       "4          2623          3.0         False  "
      ]
     },
     "execution_count": 3,
     "metadata": {},
     "output_type": "execute_result"
    }
   ],
   "source": [
    "test_csv_file_path = os.path.join(data_dir, 'test_data.csv')\n",
    "test_df = pd.read_csv(test_csv_file_path, parse_dates=['Timestamp'])\n",
    "test_df = test_df[test_df[\"answerCode\"] > -1]\n",
    "test_df[\"next_userID\"] = test_df['userID'].shift(-5)\n",
    "test_df[\"is_test_data\"] = test_df[[\"userID\", \"next_userID\"]].apply(lambda data: False if data[\"userID\"] == data[\"next_userID\"] else True, axis=1)\n",
    "print(test_df.shape)\n",
    "test_df.head(5)"
   ]
  },
  {
   "cell_type": "code",
   "execution_count": 4,
   "metadata": {},
   "outputs": [
    {
     "data": {
      "text/plain": [
       "(2525956, 8)"
      ]
     },
     "execution_count": 4,
     "metadata": {},
     "output_type": "execute_result"
    }
   ],
   "source": [
    "df = pd.concat([train_df, test_df], ignore_index=True)\n",
    "del(train_df)\n",
    "del(test_df)\n",
    "df.shape"
   ]
  },
  {
   "cell_type": "code",
   "execution_count": 5,
   "metadata": {},
   "outputs": [
    {
     "name": "stdout",
     "output_type": "stream",
     "text": [
      "CPU times: user 43.2 s, sys: 836 ms, total: 44 s\n",
      "Wall time: 44.1 s\n"
     ]
    }
   ],
   "source": [
    "%%time\n",
    "def random_answering(data):\n",
    "    if data[\"is_test_data\"]:\n",
    "        return 1 if random.random() < 0.5 else 0\n",
    "    else:\n",
    "        return data[\"answerCode\"]\n",
    "\n",
    "df[\"answercode\"] = df.apply(random_answering, axis=1)"
   ]
  },
  {
   "cell_type": "markdown",
   "metadata": {},
   "source": [
    "### Feature Engineering"
   ]
  },
  {
   "cell_type": "code",
   "execution_count": 6,
   "metadata": {
    "ExecuteTime": {
     "end_time": "2021-05-24T09:49:29.683739Z",
     "start_time": "2021-05-24T09:49:28.981Z"
    }
   },
   "outputs": [
    {
     "name": "stdout",
     "output_type": "stream",
     "text": [
      "Timestamp 관련 feature\n",
      "assessmentItemID 관련 feature\n",
      "KnowledgeTag별 누적 풀이 수, 정답 수, 정답률\n",
      "userID, KnowledgeTag별 누적 풀이 수, 정답 수, 정답률\n",
      "assessmentItemID별 누적 풀이 수, 정답 수, 정답률\n",
      "question class별 누적 풀이 수, 정답 수, 정답률\n",
      "userID_question_class별 누적 풀이 수, 정답 수, 정답률\n",
      "question num별 누적 풀이 수, 정답 수, 정답률\n",
      "userID_question_num별 누적 풀이 수, 정답 수, 정답률\n",
      "user 별 누적 풀이 수, 정답 수, 정답률\n",
      "userID별 timestamp 중앙값\n"
     ]
    },
    {
     "name": "stderr",
     "output_type": "stream",
     "text": [
      "100%|██████████| 2525956/2525956 [00:26<00:00, 95144.91it/s] \n",
      "100%|██████████| 2525956/2525956 [00:55<00:00, 45765.68it/s]\n"
     ]
    },
    {
     "name": "stdout",
     "output_type": "stream",
     "text": [
      "문제별 풀이 시간의 중앙값&평균값\n",
      "userID별 정답률(user_acc)의 이동 평균 및 중앙값\n",
      "5\n"
     ]
    },
    {
     "name": "stderr",
     "output_type": "stream",
     "text": [
      "100%|██████████| 2525956/2525956 [00:55<00:00, 45491.33it/s]\n",
      "100%|██████████| 2525956/2525956 [00:55<00:00, 45293.70it/s]\n"
     ]
    },
    {
     "name": "stdout",
     "output_type": "stream",
     "text": [
      "10\n"
     ]
    },
    {
     "name": "stderr",
     "output_type": "stream",
     "text": [
      "100%|██████████| 2525956/2525956 [00:55<00:00, 45780.82it/s]\n",
      "100%|██████████| 2525956/2525956 [00:56<00:00, 44982.34it/s]\n"
     ]
    },
    {
     "name": "stdout",
     "output_type": "stream",
     "text": [
      "15\n"
     ]
    },
    {
     "name": "stderr",
     "output_type": "stream",
     "text": [
      "100%|██████████| 2525956/2525956 [00:54<00:00, 46207.33it/s]\n",
      "100%|██████████| 2525956/2525956 [00:58<00:00, 43198.60it/s]\n"
     ]
    },
    {
     "name": "stdout",
     "output_type": "stream",
     "text": [
      "30\n"
     ]
    },
    {
     "name": "stderr",
     "output_type": "stream",
     "text": [
      "100%|██████████| 2525956/2525956 [00:57<00:00, 43599.19it/s]\n",
      "100%|██████████| 2525956/2525956 [00:59<00:00, 42402.29it/s]\n"
     ]
    },
    {
     "name": "stdout",
     "output_type": "stream",
     "text": [
      "feature_dimension_reduction\n",
      "lda\n",
      "svd\n",
      "User가 해당 문제를 풀어본 경험 Feature\n",
      "User가 해당 test를 풀어본 경험 Feature\n",
      "CPU times: user 17min 58s, sys: 2min 32s, total: 20min 31s\n",
      "Wall time: 19min 41s\n"
     ]
    },
    {
     "data": {
      "text/html": [
       "<div>\n",
       "<style scoped>\n",
       "    .dataframe tbody tr th:only-of-type {\n",
       "        vertical-align: middle;\n",
       "    }\n",
       "\n",
       "    .dataframe tbody tr th {\n",
       "        vertical-align: top;\n",
       "    }\n",
       "\n",
       "    .dataframe thead th {\n",
       "        text-align: right;\n",
       "    }\n",
       "</style>\n",
       "<table border=\"1\" class=\"dataframe\">\n",
       "  <thead>\n",
       "    <tr style=\"text-align: right;\">\n",
       "      <th></th>\n",
       "      <th>userID</th>\n",
       "      <th>assessmentItemID</th>\n",
       "      <th>testId</th>\n",
       "      <th>answerCode</th>\n",
       "      <th>Timestamp</th>\n",
       "      <th>KnowledgeTag</th>\n",
       "      <th>next_userID</th>\n",
       "      <th>is_test_data</th>\n",
       "      <th>answercode</th>\n",
       "      <th>year</th>\n",
       "      <th>...</th>\n",
       "      <th>userID_KnowledgeTag_svd</th>\n",
       "      <th>assessmentItemID_svd</th>\n",
       "      <th>question_class_svd</th>\n",
       "      <th>userID_question_class_svd</th>\n",
       "      <th>question_num_svd</th>\n",
       "      <th>userID_question_num_svd</th>\n",
       "      <th>userID_svd</th>\n",
       "      <th>all_data_svd</th>\n",
       "      <th>userID_assessmentItemID_experience</th>\n",
       "      <th>userID_testid_experience</th>\n",
       "    </tr>\n",
       "  </thead>\n",
       "  <tbody>\n",
       "    <tr>\n",
       "      <th>0</th>\n",
       "      <td>0</td>\n",
       "      <td>A060001001</td>\n",
       "      <td>A060000001</td>\n",
       "      <td>1</td>\n",
       "      <td>2020-03-24 00:17:11</td>\n",
       "      <td>7224</td>\n",
       "      <td>0.0</td>\n",
       "      <td>False</td>\n",
       "      <td>1</td>\n",
       "      <td>2020</td>\n",
       "      <td>...</td>\n",
       "      <td>0.0</td>\n",
       "      <td>225.635792</td>\n",
       "      <td>39868.971351</td>\n",
       "      <td>0.000000</td>\n",
       "      <td>55488.827014</td>\n",
       "      <td>0.0</td>\n",
       "      <td>0.000000</td>\n",
       "      <td>68304.216652</td>\n",
       "      <td>0</td>\n",
       "      <td>0</td>\n",
       "    </tr>\n",
       "    <tr>\n",
       "      <th>1</th>\n",
       "      <td>0</td>\n",
       "      <td>A060001002</td>\n",
       "      <td>A060000001</td>\n",
       "      <td>1</td>\n",
       "      <td>2020-03-24 00:17:14</td>\n",
       "      <td>7225</td>\n",
       "      <td>0.0</td>\n",
       "      <td>False</td>\n",
       "      <td>1</td>\n",
       "      <td>2020</td>\n",
       "      <td>...</td>\n",
       "      <td>0.0</td>\n",
       "      <td>223.963244</td>\n",
       "      <td>39870.359260</td>\n",
       "      <td>1.395334</td>\n",
       "      <td>54423.735554</td>\n",
       "      <td>0.0</td>\n",
       "      <td>1.392196</td>\n",
       "      <td>67470.716893</td>\n",
       "      <td>0</td>\n",
       "      <td>1</td>\n",
       "    </tr>\n",
       "  </tbody>\n",
       "</table>\n",
       "<p>2 rows × 68 columns</p>\n",
       "</div>"
      ],
      "text/plain": [
       "  userID assessmentItemID      testId  answerCode           Timestamp  \\\n",
       "0      0       A060001001  A060000001           1 2020-03-24 00:17:11   \n",
       "1      0       A060001002  A060000001           1 2020-03-24 00:17:14   \n",
       "\n",
       "  KnowledgeTag  next_userID  is_test_data  answercode  year  ...  \\\n",
       "0         7224          0.0         False           1  2020  ...   \n",
       "1         7225          0.0         False           1  2020  ...   \n",
       "\n",
       "  userID_KnowledgeTag_svd  assessmentItemID_svd question_class_svd  \\\n",
       "0                     0.0            225.635792       39868.971351   \n",
       "1                     0.0            223.963244       39870.359260   \n",
       "\n",
       "   userID_question_class_svd  question_num_svd  userID_question_num_svd  \\\n",
       "0                   0.000000      55488.827014                      0.0   \n",
       "1                   1.395334      54423.735554                      0.0   \n",
       "\n",
       "   userID_svd  all_data_svd  userID_assessmentItemID_experience  \\\n",
       "0    0.000000  68304.216652                                   0   \n",
       "1    1.392196  67470.716893                                   0   \n",
       "\n",
       "   userID_testid_experience  \n",
       "0                         0  \n",
       "1                         1  \n",
       "\n",
       "[2 rows x 68 columns]"
      ]
     },
     "execution_count": 6,
     "metadata": {},
     "output_type": "execute_result"
    }
   ],
   "source": [
    "%%time\n",
    "df = feature_engineering_sun(df)\n",
    "df.head(2)"
   ]
  },
  {
   "cell_type": "code",
   "execution_count": 7,
   "metadata": {},
   "outputs": [
    {
     "data": {
      "text/plain": [
       "Index(['userID', 'assessmentItemID', 'testId', 'answerCode', 'Timestamp',\n",
       "       'KnowledgeTag', 'next_userID', 'is_test_data', 'answercode', 'year',\n",
       "       'month', 'question_num', 'question_class', 'KnowledgeTag_total_answer',\n",
       "       'KnowledgeTag_correct_answer', 'KnowledgeTag_acc',\n",
       "       'userID_KnowledgeTag_total_answer',\n",
       "       'userID_KnowledgeTag_correct_answer', 'userID_KnowledgeTag_acc',\n",
       "       'assessmentItemID_total_answer', 'assessmentItemID_correct_answer',\n",
       "       'assessmentItemID_acc', 'question_class_correct_answer',\n",
       "       'question_class_total_answer', 'question_class_acc',\n",
       "       'userID_question_class_total_answer',\n",
       "       'userID_question_class_correct_answer', 'userID_question_class_acc',\n",
       "       'question_num_correct_answer', 'question_num_total_answer',\n",
       "       'question_num_acc', 'userID_question_num_total_answer',\n",
       "       'userID_question_num_correct_answer', 'userID_question_num_acc',\n",
       "       'userID_correct_answer', 'userID_total_answer', 'userID_acc',\n",
       "       'userID_elapsed_median', 'assessmentItemID_time_median',\n",
       "       'assessmentItemID_time_mean', 'userID_acc_rolling_5',\n",
       "       'userID_elapsed_median_rolling_5', 'userID_acc_rolling_10',\n",
       "       'userID_elapsed_median_rolling_10', 'userID_acc_rolling_15',\n",
       "       'userID_elapsed_median_rolling_15', 'userID_acc_rolling_30',\n",
       "       'userID_elapsed_median_rolling_30', 'KnowledgeTag_lda',\n",
       "       'userID_KnowledgeTag_lda', 'assessmentItemID_lda', 'question_class_lda',\n",
       "       'userID_question_class_lda', 'question_num_lda',\n",
       "       'userID_question_num_lda', 'userID_lda', 'all_data_lda',\n",
       "       'KnowledgeTag_svd', 'userID_KnowledgeTag_svd', 'assessmentItemID_svd',\n",
       "       'question_class_svd', 'userID_question_class_svd', 'question_num_svd',\n",
       "       'userID_question_num_svd', 'userID_svd', 'all_data_svd',\n",
       "       'userID_assessmentItemID_experience', 'userID_testid_experience'],\n",
       "      dtype='object')"
      ]
     },
     "execution_count": 7,
     "metadata": {},
     "output_type": "execute_result"
    }
   ],
   "source": [
    "df.columns"
   ]
  },
  {
   "cell_type": "code",
   "execution_count": 8,
   "metadata": {},
   "outputs": [
    {
     "data": {
      "text/html": [
       "<div>\n",
       "<style scoped>\n",
       "    .dataframe tbody tr th:only-of-type {\n",
       "        vertical-align: middle;\n",
       "    }\n",
       "\n",
       "    .dataframe tbody tr th {\n",
       "        vertical-align: top;\n",
       "    }\n",
       "\n",
       "    .dataframe thead th {\n",
       "        text-align: right;\n",
       "    }\n",
       "</style>\n",
       "<table border=\"1\" class=\"dataframe\">\n",
       "  <thead>\n",
       "    <tr style=\"text-align: right;\">\n",
       "      <th></th>\n",
       "      <th>userID</th>\n",
       "      <th>assessmentItemID</th>\n",
       "      <th>testId</th>\n",
       "      <th>answerCode</th>\n",
       "      <th>Timestamp</th>\n",
       "      <th>KnowledgeTag</th>\n",
       "      <th>next_userID</th>\n",
       "      <th>is_test_data</th>\n",
       "      <th>answercode</th>\n",
       "      <th>year</th>\n",
       "      <th>...</th>\n",
       "      <th>pred_userID_KnowledgeTag_svd</th>\n",
       "      <th>pred_assessmentItemID_svd</th>\n",
       "      <th>pred_question_class_svd</th>\n",
       "      <th>pred_userID_question_class_svd</th>\n",
       "      <th>pred_question_num_svd</th>\n",
       "      <th>pred_userID_question_num_svd</th>\n",
       "      <th>pred_userID_svd</th>\n",
       "      <th>pred_all_data_svd</th>\n",
       "      <th>pred_userID_assessmentItemID_experience</th>\n",
       "      <th>pred_userID_testid_experience</th>\n",
       "    </tr>\n",
       "  </thead>\n",
       "  <tbody>\n",
       "    <tr>\n",
       "      <th>0</th>\n",
       "      <td>0</td>\n",
       "      <td>A060001001</td>\n",
       "      <td>A060000001</td>\n",
       "      <td>1</td>\n",
       "      <td>2020-03-24 00:17:11</td>\n",
       "      <td>7224</td>\n",
       "      <td>0.0</td>\n",
       "      <td>False</td>\n",
       "      <td>1</td>\n",
       "      <td>2020</td>\n",
       "      <td>...</td>\n",
       "      <td>NaN</td>\n",
       "      <td>NaN</td>\n",
       "      <td>NaN</td>\n",
       "      <td>NaN</td>\n",
       "      <td>NaN</td>\n",
       "      <td>NaN</td>\n",
       "      <td>NaN</td>\n",
       "      <td>NaN</td>\n",
       "      <td>NaN</td>\n",
       "      <td>NaN</td>\n",
       "    </tr>\n",
       "    <tr>\n",
       "      <th>1</th>\n",
       "      <td>0</td>\n",
       "      <td>A060001002</td>\n",
       "      <td>A060000001</td>\n",
       "      <td>1</td>\n",
       "      <td>2020-03-24 00:17:14</td>\n",
       "      <td>7225</td>\n",
       "      <td>0.0</td>\n",
       "      <td>False</td>\n",
       "      <td>1</td>\n",
       "      <td>2020</td>\n",
       "      <td>...</td>\n",
       "      <td>0.000000</td>\n",
       "      <td>225.635792</td>\n",
       "      <td>39868.971351</td>\n",
       "      <td>0.000000</td>\n",
       "      <td>55488.827014</td>\n",
       "      <td>0.000000</td>\n",
       "      <td>0.000000</td>\n",
       "      <td>68304.216652</td>\n",
       "      <td>0.0</td>\n",
       "      <td>0.0</td>\n",
       "    </tr>\n",
       "    <tr>\n",
       "      <th>2</th>\n",
       "      <td>0</td>\n",
       "      <td>A060001003</td>\n",
       "      <td>A060000001</td>\n",
       "      <td>1</td>\n",
       "      <td>2020-03-24 00:17:22</td>\n",
       "      <td>7225</td>\n",
       "      <td>0.0</td>\n",
       "      <td>False</td>\n",
       "      <td>1</td>\n",
       "      <td>2020</td>\n",
       "      <td>...</td>\n",
       "      <td>0.000000</td>\n",
       "      <td>223.963244</td>\n",
       "      <td>39870.359260</td>\n",
       "      <td>1.395334</td>\n",
       "      <td>54423.735554</td>\n",
       "      <td>0.000000</td>\n",
       "      <td>1.392196</td>\n",
       "      <td>67470.716893</td>\n",
       "      <td>0.0</td>\n",
       "      <td>1.0</td>\n",
       "    </tr>\n",
       "    <tr>\n",
       "      <th>3</th>\n",
       "      <td>0</td>\n",
       "      <td>A060001004</td>\n",
       "      <td>A060000001</td>\n",
       "      <td>1</td>\n",
       "      <td>2020-03-24 00:17:29</td>\n",
       "      <td>7225</td>\n",
       "      <td>0.0</td>\n",
       "      <td>False</td>\n",
       "      <td>1</td>\n",
       "      <td>2020</td>\n",
       "      <td>...</td>\n",
       "      <td>1.471256</td>\n",
       "      <td>220.618148</td>\n",
       "      <td>39871.747169</td>\n",
       "      <td>2.788897</td>\n",
       "      <td>53791.418093</td>\n",
       "      <td>0.000000</td>\n",
       "      <td>2.783401</td>\n",
       "      <td>66968.120221</td>\n",
       "      <td>0.0</td>\n",
       "      <td>1.0</td>\n",
       "    </tr>\n",
       "    <tr>\n",
       "      <th>4</th>\n",
       "      <td>0</td>\n",
       "      <td>A060001005</td>\n",
       "      <td>A060000001</td>\n",
       "      <td>1</td>\n",
       "      <td>2020-03-24 00:17:36</td>\n",
       "      <td>7225</td>\n",
       "      <td>0.0</td>\n",
       "      <td>False</td>\n",
       "      <td>1</td>\n",
       "      <td>2020</td>\n",
       "      <td>...</td>\n",
       "      <td>2.865134</td>\n",
       "      <td>225.635792</td>\n",
       "      <td>39873.135078</td>\n",
       "      <td>4.182461</td>\n",
       "      <td>52641.660567</td>\n",
       "      <td>0.000000</td>\n",
       "      <td>4.174606</td>\n",
       "      <td>66053.545087</td>\n",
       "      <td>0.0</td>\n",
       "      <td>1.0</td>\n",
       "    </tr>\n",
       "    <tr>\n",
       "      <th>...</th>\n",
       "      <td>...</td>\n",
       "      <td>...</td>\n",
       "      <td>...</td>\n",
       "      <td>...</td>\n",
       "      <td>...</td>\n",
       "      <td>...</td>\n",
       "      <td>...</td>\n",
       "      <td>...</td>\n",
       "      <td>...</td>\n",
       "      <td>...</td>\n",
       "      <td>...</td>\n",
       "      <td>...</td>\n",
       "      <td>...</td>\n",
       "      <td>...</td>\n",
       "      <td>...</td>\n",
       "      <td>...</td>\n",
       "      <td>...</td>\n",
       "      <td>...</td>\n",
       "      <td>...</td>\n",
       "      <td>...</td>\n",
       "      <td>...</td>\n",
       "    </tr>\n",
       "    <tr>\n",
       "      <th>2525951</th>\n",
       "      <td>7441</td>\n",
       "      <td>A030071005</td>\n",
       "      <td>A030000071</td>\n",
       "      <td>0</td>\n",
       "      <td>2020-06-05 06:50:21</td>\n",
       "      <td>438</td>\n",
       "      <td>7441.0</td>\n",
       "      <td>False</td>\n",
       "      <td>0</td>\n",
       "      <td>2020</td>\n",
       "      <td>...</td>\n",
       "      <td>3.025986</td>\n",
       "      <td>106.779681</td>\n",
       "      <td>112921.194514</td>\n",
       "      <td>3.028496</td>\n",
       "      <td>148815.437899</td>\n",
       "      <td>0.000000</td>\n",
       "      <td>3.036800</td>\n",
       "      <td>186821.500958</td>\n",
       "      <td>0.0</td>\n",
       "      <td>1.0</td>\n",
       "    </tr>\n",
       "    <tr>\n",
       "      <th>2525952</th>\n",
       "      <td>7441</td>\n",
       "      <td>A040165001</td>\n",
       "      <td>A040000165</td>\n",
       "      <td>1</td>\n",
       "      <td>2020-08-21 01:06:39</td>\n",
       "      <td>8836</td>\n",
       "      <td>7441.0</td>\n",
       "      <td>False</td>\n",
       "      <td>1</td>\n",
       "      <td>2020</td>\n",
       "      <td>...</td>\n",
       "      <td>3.822695</td>\n",
       "      <td>98.974257</td>\n",
       "      <td>112922.024215</td>\n",
       "      <td>3.845519</td>\n",
       "      <td>141310.766711</td>\n",
       "      <td>0.000000</td>\n",
       "      <td>3.859350</td>\n",
       "      <td>180846.830330</td>\n",
       "      <td>0.0</td>\n",
       "      <td>1.0</td>\n",
       "    </tr>\n",
       "    <tr>\n",
       "      <th>2525953</th>\n",
       "      <td>7441</td>\n",
       "      <td>A040165002</td>\n",
       "      <td>A040000165</td>\n",
       "      <td>1</td>\n",
       "      <td>2020-08-21 01:06:50</td>\n",
       "      <td>8836</td>\n",
       "      <td>7441.0</td>\n",
       "      <td>False</td>\n",
       "      <td>1</td>\n",
       "      <td>2020</td>\n",
       "      <td>...</td>\n",
       "      <td>0.000000</td>\n",
       "      <td>117.348169</td>\n",
       "      <td>219522.603095</td>\n",
       "      <td>0.000000</td>\n",
       "      <td>309990.171028</td>\n",
       "      <td>0.810791</td>\n",
       "      <td>4.681933</td>\n",
       "      <td>379630.758839</td>\n",
       "      <td>0.0</td>\n",
       "      <td>0.0</td>\n",
       "    </tr>\n",
       "    <tr>\n",
       "      <th>2525954</th>\n",
       "      <td>7441</td>\n",
       "      <td>A040165003</td>\n",
       "      <td>A040000165</td>\n",
       "      <td>1</td>\n",
       "      <td>2020-08-21 01:07:36</td>\n",
       "      <td>8836</td>\n",
       "      <td>7441.0</td>\n",
       "      <td>False</td>\n",
       "      <td>1</td>\n",
       "      <td>2020</td>\n",
       "      <td>...</td>\n",
       "      <td>1.471256</td>\n",
       "      <td>116.233111</td>\n",
       "      <td>219523.991004</td>\n",
       "      <td>1.395334</td>\n",
       "      <td>305243.442158</td>\n",
       "      <td>0.810791</td>\n",
       "      <td>6.073270</td>\n",
       "      <td>375852.292570</td>\n",
       "      <td>0.0</td>\n",
       "      <td>1.0</td>\n",
       "    </tr>\n",
       "    <tr>\n",
       "      <th>2525955</th>\n",
       "      <td>7441</td>\n",
       "      <td>A040165004</td>\n",
       "      <td>A040000165</td>\n",
       "      <td>1</td>\n",
       "      <td>2020-08-21 01:08:49</td>\n",
       "      <td>8836</td>\n",
       "      <td>NaN</td>\n",
       "      <td>False</td>\n",
       "      <td>1</td>\n",
       "      <td>2020</td>\n",
       "      <td>...</td>\n",
       "      <td>2.865134</td>\n",
       "      <td>120.693342</td>\n",
       "      <td>219526.766822</td>\n",
       "      <td>2.788897</td>\n",
       "      <td>301028.514945</td>\n",
       "      <td>1.402592</td>\n",
       "      <td>7.464570</td>\n",
       "      <td>372498.086417</td>\n",
       "      <td>0.0</td>\n",
       "      <td>1.0</td>\n",
       "    </tr>\n",
       "  </tbody>\n",
       "</table>\n",
       "<p>2525956 rows × 136 columns</p>\n",
       "</div>"
      ],
      "text/plain": [
       "        userID assessmentItemID      testId  answerCode           Timestamp  \\\n",
       "0            0       A060001001  A060000001           1 2020-03-24 00:17:11   \n",
       "1            0       A060001002  A060000001           1 2020-03-24 00:17:14   \n",
       "2            0       A060001003  A060000001           1 2020-03-24 00:17:22   \n",
       "3            0       A060001004  A060000001           1 2020-03-24 00:17:29   \n",
       "4            0       A060001005  A060000001           1 2020-03-24 00:17:36   \n",
       "...        ...              ...         ...         ...                 ...   \n",
       "2525951   7441       A030071005  A030000071           0 2020-06-05 06:50:21   \n",
       "2525952   7441       A040165001  A040000165           1 2020-08-21 01:06:39   \n",
       "2525953   7441       A040165002  A040000165           1 2020-08-21 01:06:50   \n",
       "2525954   7441       A040165003  A040000165           1 2020-08-21 01:07:36   \n",
       "2525955   7441       A040165004  A040000165           1 2020-08-21 01:08:49   \n",
       "\n",
       "        KnowledgeTag  next_userID  is_test_data  answercode  year  ...  \\\n",
       "0               7224          0.0         False           1  2020  ...   \n",
       "1               7225          0.0         False           1  2020  ...   \n",
       "2               7225          0.0         False           1  2020  ...   \n",
       "3               7225          0.0         False           1  2020  ...   \n",
       "4               7225          0.0         False           1  2020  ...   \n",
       "...              ...          ...           ...         ...   ...  ...   \n",
       "2525951          438       7441.0         False           0  2020  ...   \n",
       "2525952         8836       7441.0         False           1  2020  ...   \n",
       "2525953         8836       7441.0         False           1  2020  ...   \n",
       "2525954         8836       7441.0         False           1  2020  ...   \n",
       "2525955         8836          NaN         False           1  2020  ...   \n",
       "\n",
       "        pred_userID_KnowledgeTag_svd  pred_assessmentItemID_svd  \\\n",
       "0                                NaN                        NaN   \n",
       "1                           0.000000                 225.635792   \n",
       "2                           0.000000                 223.963244   \n",
       "3                           1.471256                 220.618148   \n",
       "4                           2.865134                 225.635792   \n",
       "...                              ...                        ...   \n",
       "2525951                     3.025986                 106.779681   \n",
       "2525952                     3.822695                  98.974257   \n",
       "2525953                     0.000000                 117.348169   \n",
       "2525954                     1.471256                 116.233111   \n",
       "2525955                     2.865134                 120.693342   \n",
       "\n",
       "        pred_question_class_svd  pred_userID_question_class_svd  \\\n",
       "0                           NaN                             NaN   \n",
       "1                  39868.971351                        0.000000   \n",
       "2                  39870.359260                        1.395334   \n",
       "3                  39871.747169                        2.788897   \n",
       "4                  39873.135078                        4.182461   \n",
       "...                         ...                             ...   \n",
       "2525951           112921.194514                        3.028496   \n",
       "2525952           112922.024215                        3.845519   \n",
       "2525953           219522.603095                        0.000000   \n",
       "2525954           219523.991004                        1.395334   \n",
       "2525955           219526.766822                        2.788897   \n",
       "\n",
       "         pred_question_num_svd  pred_userID_question_num_svd  pred_userID_svd  \\\n",
       "0                          NaN                           NaN              NaN   \n",
       "1                 55488.827014                      0.000000         0.000000   \n",
       "2                 54423.735554                      0.000000         1.392196   \n",
       "3                 53791.418093                      0.000000         2.783401   \n",
       "4                 52641.660567                      0.000000         4.174606   \n",
       "...                        ...                           ...              ...   \n",
       "2525951          148815.437899                      0.000000         3.036800   \n",
       "2525952          141310.766711                      0.000000         3.859350   \n",
       "2525953          309990.171028                      0.810791         4.681933   \n",
       "2525954          305243.442158                      0.810791         6.073270   \n",
       "2525955          301028.514945                      1.402592         7.464570   \n",
       "\n",
       "         pred_all_data_svd  pred_userID_assessmentItemID_experience  \\\n",
       "0                      NaN                                      NaN   \n",
       "1             68304.216652                                      0.0   \n",
       "2             67470.716893                                      0.0   \n",
       "3             66968.120221                                      0.0   \n",
       "4             66053.545087                                      0.0   \n",
       "...                    ...                                      ...   \n",
       "2525951      186821.500958                                      0.0   \n",
       "2525952      180846.830330                                      0.0   \n",
       "2525953      379630.758839                                      0.0   \n",
       "2525954      375852.292570                                      0.0   \n",
       "2525955      372498.086417                                      0.0   \n",
       "\n",
       "         pred_userID_testid_experience  \n",
       "0                                  NaN  \n",
       "1                                  0.0  \n",
       "2                                  1.0  \n",
       "3                                  1.0  \n",
       "4                                  1.0  \n",
       "...                                ...  \n",
       "2525951                            1.0  \n",
       "2525952                            1.0  \n",
       "2525953                            0.0  \n",
       "2525954                            1.0  \n",
       "2525955                            1.0  \n",
       "\n",
       "[2525956 rows x 136 columns]"
      ]
     },
     "execution_count": 8,
     "metadata": {},
     "output_type": "execute_result"
    }
   ],
   "source": [
    "new_df = df.shift(1)\n",
    "new_df.columns = [\"pred_\" + i for i in new_df.columns]\n",
    "final_df = pd.concat([df, new_df], axis=1)\n",
    "\n",
    "del(new_df)\n",
    "del(df)\n",
    "\n",
    "final_df"
   ]
  },
  {
   "cell_type": "code",
   "execution_count": 9,
   "metadata": {},
   "outputs": [],
   "source": [
    "FEATS = ['assessmentItemID_acc', 'assessmentItemID_correct_answer', 'assessmentItemID_total_answer',\n",
    "         'userID_question_class_acc', 'userID_question_class_correct_answer', 'userID_question_class_total_answer',\n",
    "         'question_class_acc', 'question_class_correct_answer', 'question_class_total_answer',\n",
    "         'userID_testid_experience', 'userID_assessmentItemID_experience',\n",
    "         'assessmentItemID_lda', 'userID_question_class_lda', 'question_class_lda', 'question_num_lda', 'userID_lda', \n",
    "         'KnowledgeTag_lda', 'userID_KnowledgeTag_lda', 'all_data_lda',\n",
    "         'assessmentItemID_svd', 'userID_question_class_svd', 'question_class_svd', 'question_num_svd', 'userID_svd', \n",
    "         'KnowledgeTag_svd', 'userID_KnowledgeTag_svd', 'all_data_svd',\n",
    "         'userID_elapsed_median_rolling_5', 'userID_elapsed_median_rolling_10',\n",
    "         'userID_elapsed_median_rolling_15', 'userID_elapsed_median_rolling_30',\n",
    "         'assessmentItemID', 'testId', 'question_class', 'question_num', 'userID', 'KnowledgeTag']"
   ]
  },
  {
   "cell_type": "markdown",
   "metadata": {},
   "source": [
    "### Training"
   ]
  },
  {
   "cell_type": "code",
   "execution_count": 10,
   "metadata": {},
   "outputs": [
    {
     "name": "stdout",
     "output_type": "stream",
     "text": [
      "CPU times: user 15.5 s, sys: 18.8 s, total: 34.3 s\n",
      "Wall time: 34.3 s\n"
     ]
    }
   ],
   "source": [
    "%%time\n",
    "# 유저별 분리\n",
    "train_lst, test_lst = custom_train_test_split(final_df)"
   ]
  },
  {
   "cell_type": "code",
   "execution_count": 11,
   "metadata": {
    "tags": []
   },
   "outputs": [
    {
     "name": "stdout",
     "output_type": "stream",
     "text": [
      "==============================\n",
      "{'boosting_type': 'dart', 'learning_rate': 0.05, 'objective': 'binary', 'metric': 'auc', 'num_iterations': 100, 'max_depth': -1, 'num_leaves': 127, 'min_data_in_leaf': 100, 'max_bin': 256, 'bagging_fraction': 0.7, 'feature_fraction': 0.7, 'lambda_l1': 0.1, 'lambda_l2': 0.1}\n",
      "==============================\n",
      "\n",
      "@@@@@@@@@@@@@@@@@@@@@@@@@@@@@@@@@@@@@@@@@@@@@@@@@@\n",
      "0 번째 fold\n",
      "@@@@@@@@@@@@@@@@@@@@@@@@@@@@@@@@@@@@@@@@@@@@@@@@@@\n",
      "==============================\n",
      "train, test shape\n",
      "(2524526, 135) (1430, 135)\n",
      "==============================\n",
      "\n"
     ]
    },
    {
     "name": "stderr",
     "output_type": "stream",
     "text": [
      "\u001b[34m\u001b[1mwandb\u001b[0m: Currently logged in as: \u001b[33msunnight9507\u001b[0m (use `wandb login --relogin` to force relogin)\n",
      "\u001b[34m\u001b[1mwandb\u001b[0m: wandb version 0.10.32 is available!  To upgrade, please run:\n",
      "\u001b[34m\u001b[1mwandb\u001b[0m:  $ pip install wandb --upgrade\n"
     ]
    },
    {
     "data": {
      "text/html": [
       "\n",
       "                Tracking run with wandb version 0.10.30<br/>\n",
       "                Syncing run <strong style=\"color:#cdcd00\">logical-plasma-2576</strong> to <a href=\"https://wandb.ai\" target=\"_blank\">Weights & Biases</a> <a href=\"https://docs.wandb.com/integrations/jupyter.html\" target=\"_blank\">(Documentation)</a>.<br/>\n",
       "                Project page: <a href=\"https://wandb.ai/team-ikyo/P4-DKT\" target=\"_blank\">https://wandb.ai/team-ikyo/P4-DKT</a><br/>\n",
       "                Run page: <a href=\"https://wandb.ai/team-ikyo/P4-DKT/runs/y4gklll1\" target=\"_blank\">https://wandb.ai/team-ikyo/P4-DKT/runs/y4gklll1</a><br/>\n",
       "                Run data is saved locally in <code>/opt/ml/code/wandb/run-20210619_172258-y4gklll1</code><br/><br/>\n",
       "            "
      ],
      "text/plain": [
       "<IPython.core.display.HTML object>"
      ]
     },
     "metadata": {},
     "output_type": "display_data"
    },
    {
     "name": "stdout",
     "output_type": "stream",
     "text": [
      "[LightGBM] [Info] Number of positive: 1652912, number of negative: 871614\n",
      "[LightGBM] [Warning] Auto-choosing col-wise multi-threading, the overhead of testing was 0.588170 seconds.\n",
      "You can set `force_col_wise=true` to remove the overhead.\n",
      "[LightGBM] [Info] Total Bins 25009\n",
      "[LightGBM] [Info] Number of data points in the train set: 2524526, number of used features: 37\n",
      "[LightGBM] [Info] [binary:BoostFromScore]: pavg=0.654742 -> initscore=0.639947\n",
      "[LightGBM] [Info] Start training from score 0.639947\n",
      "[100]\ttraining's auc: 0.848456\tvalid_1's auc: 0.800057\n",
      "VALID AUC : 0.8000565033823552 ACC : 0.727972027972028\n",
      "\n"
     ]
    },
    {
     "data": {
      "image/png": "[encoded data removed]",
      "text/plain": [
       "<Figure size 432x864 with 1 Axes>"
      ]
     },
     "metadata": {
      "needs_background": "light"
     },
     "output_type": "display_data"
    },
    {
     "name": "stdout",
     "output_type": "stream",
     "text": [
      "@@@@@@@@@@@@@@@@@@@@@@@@@@@@@@@@@@@@@@@@@@@@@@@@@@\n",
      "0 번째 fold\n",
      "@@@@@@@@@@@@@@@@@@@@@@@@@@@@@@@@@@@@@@@@@@@@@@@@@@\n",
      "==============================\n",
      "train, test shape\n",
      "(2524412, 135) (1544, 135)\n",
      "==============================\n",
      "\n"
     ]
    },
    {
     "data": {
      "text/html": [
       "Finishing last run (ID:y4gklll1) before initializing another..."
      ],
      "text/plain": [
       "<IPython.core.display.HTML object>"
      ]
     },
     "metadata": {},
     "output_type": "display_data"
    },
    {
     "data": {
      "text/html": [
       "<br/>Waiting for W&B process to finish, PID 18230<br/>Program ended successfully."
      ],
      "text/plain": [
       "<IPython.core.display.HTML object>"
      ]
     },
     "metadata": {},
     "output_type": "display_data"
    },
    {
     "data": {
      "application/vnd.jupyter.widget-view+json": {
       "model_id": "",
       "version_major": 2,
       "version_minor": 0
      },
      "text/plain": [
       "VBox(children=(Label(value=' 0.00MB of 0.00MB uploaded (0.00MB deduped)\\r'), FloatProgress(value=1.0, max=1.0)…"
      ]
     },
     "metadata": {},
     "output_type": "display_data"
    },
    {
     "data": {
      "text/html": [
       "Find user logs for this run at: <code>/opt/ml/code/wandb/run-20210619_172258-y4gklll1/logs/debug.log</code>"
      ],
      "text/plain": [
       "<IPython.core.display.HTML object>"
      ]
     },
     "metadata": {},
     "output_type": "display_data"
    },
    {
     "data": {
      "text/html": [
       "Find internal logs for this run at: <code>/opt/ml/code/wandb/run-20210619_172258-y4gklll1/logs/debug-internal.log</code>"
      ],
      "text/plain": [
       "<IPython.core.display.HTML object>"
      ]
     },
     "metadata": {},
     "output_type": "display_data"
    },
    {
     "data": {
      "text/html": [
       "<h3>Run summary:</h3><br/><style>\n",
       "    table.wandb td:nth-child(1) { padding: 0 10px; text-align: right }\n",
       "    </style><table class=\"wandb\">\n",
       "<tr><td>training_auc</td><td>0.84846</td></tr><tr><td>valid_1_auc</td><td>0.80006</td></tr><tr><td>_runtime</td><td>101</td></tr><tr><td>_timestamp</td><td>1624123479</td></tr><tr><td>_step</td><td>99</td></tr></table>"
      ],
      "text/plain": [
       "<IPython.core.display.HTML object>"
      ]
     },
     "metadata": {},
     "output_type": "display_data"
    },
    {
     "data": {
      "text/html": [
       "<h3>Run history:</h3><br/><style>\n",
       "    table.wandb td:nth-child(1) { padding: 0 10px; text-align: right }\n",
       "    </style><table class=\"wandb\">\n",
       "<tr><td>training_auc</td><td>▁▂▃▃▃▄▄▄▄▅▅▅▅▆▆▆▆▆▆▆▆▇▇▇▇▇▇▇▇▇▇█████████</td></tr><tr><td>valid_1_auc</td><td>▁▃▄▄▅▅▆▆▆▆▆▆▇▇▇▇▇▇▇▇▇▇▇▇████████████████</td></tr><tr><td>_runtime</td><td>▁▁▁▁▁▂▂▂▂▂▂▂▂▃▃▃▃▃▃▄▄▄▄▄▅▅▅▅▅▅▆▆▆▆▇▇▇▇██</td></tr><tr><td>_timestamp</td><td>▁▁▁▁▁▂▂▂▂▂▂▂▂▃▃▃▃▃▃▄▄▄▄▄▅▅▅▅▅▅▆▆▆▆▇▇▇▇██</td></tr><tr><td>_step</td><td>▁▁▁▁▂▂▂▂▂▃▃▃▃▃▃▄▄▄▄▄▅▅▅▅▅▅▆▆▆▆▆▇▇▇▇▇▇███</td></tr></table><br/>"
      ],
      "text/plain": [
       "<IPython.core.display.HTML object>"
      ]
     },
     "metadata": {},
     "output_type": "display_data"
    },
    {
     "data": {
      "text/html": [
       "Synced 5 W&B file(s), 0 media file(s), 0 artifact file(s) and 0 other file(s)"
      ],
      "text/plain": [
       "<IPython.core.display.HTML object>"
      ]
     },
     "metadata": {},
     "output_type": "display_data"
    },
    {
     "data": {
      "text/html": [
       "\n",
       "                    <br/>Synced <strong style=\"color:#cdcd00\">logical-plasma-2576</strong>: <a href=\"https://wandb.ai/team-ikyo/P4-DKT/runs/y4gklll1\" target=\"_blank\">https://wandb.ai/team-ikyo/P4-DKT/runs/y4gklll1</a><br/>\n",
       "                "
      ],
      "text/plain": [
       "<IPython.core.display.HTML object>"
      ]
     },
     "metadata": {},
     "output_type": "display_data"
    },
    {
     "data": {
      "text/html": [
       "...Successfully finished last run (ID:y4gklll1). Initializing new run:<br/><br/>"
      ],
      "text/plain": [
       "<IPython.core.display.HTML object>"
      ]
     },
     "metadata": {},
     "output_type": "display_data"
    },
    {
     "name": "stderr",
     "output_type": "stream",
     "text": [
      "\u001b[34m\u001b[1mwandb\u001b[0m: wandb version 0.10.32 is available!  To upgrade, please run:\n",
      "\u001b[34m\u001b[1mwandb\u001b[0m:  $ pip install wandb --upgrade\n"
     ]
    },
    {
     "data": {
      "text/html": [
       "\n",
       "                Tracking run with wandb version 0.10.30<br/>\n",
       "                Syncing run <strong style=\"color:#cdcd00\">solar-meadow-2577</strong> to <a href=\"https://wandb.ai\" target=\"_blank\">Weights & Biases</a> <a href=\"https://docs.wandb.com/integrations/jupyter.html\" target=\"_blank\">(Documentation)</a>.<br/>\n",
       "                Project page: <a href=\"https://wandb.ai/team-ikyo/P4-DKT\" target=\"_blank\">https://wandb.ai/team-ikyo/P4-DKT</a><br/>\n",
       "                Run page: <a href=\"https://wandb.ai/team-ikyo/P4-DKT/runs/sfd7mank\" target=\"_blank\">https://wandb.ai/team-ikyo/P4-DKT/runs/sfd7mank</a><br/>\n",
       "                Run data is saved locally in <code>/opt/ml/code/wandb/run-20210619_172446-sfd7mank</code><br/><br/>\n",
       "            "
      ],
      "text/plain": [
       "<IPython.core.display.HTML object>"
      ]
     },
     "metadata": {},
     "output_type": "display_data"
    },
    {
     "name": "stdout",
     "output_type": "stream",
     "text": [
      "[LightGBM] [Info] Number of positive: 1652830, number of negative: 871582\n",
      "[LightGBM] [Warning] Auto-choosing col-wise multi-threading, the overhead of testing was 0.483986 seconds.\n",
      "You can set `force_col_wise=true` to remove the overhead.\n",
      "[LightGBM] [Info] Total Bins 24994\n",
      "[LightGBM] [Info] Number of data points in the train set: 2524412, number of used features: 37\n",
      "[LightGBM] [Info] [binary:BoostFromScore]: pavg=0.654739 -> initscore=0.639934\n",
      "[LightGBM] [Info] Start training from score 0.639934\n",
      "[100]\ttraining's auc: 0.848449\tvalid_1's auc: 0.804981\n",
      "VALID AUC : 0.8049809663840158 ACC : 0.7299222797927462\n",
      "\n"
     ]
    },
    {
     "data": {
      "image/png": "[encoded data removed]",
      "text/plain": [
       "<Figure size 432x864 with 1 Axes>"
      ]
     },
     "metadata": {
      "needs_background": "light"
     },
     "output_type": "display_data"
    },
    {
     "name": "stdout",
     "output_type": "stream",
     "text": [
      "@@@@@@@@@@@@@@@@@@@@@@@@@@@@@@@@@@@@@@@@@@@@@@@@@@\n",
      "0 번째 fold\n",
      "@@@@@@@@@@@@@@@@@@@@@@@@@@@@@@@@@@@@@@@@@@@@@@@@@@\n",
      "==============================\n",
      "train, test shape\n",
      "(2524490, 135) (1466, 135)\n",
      "==============================\n",
      "\n"
     ]
    },
    {
     "data": {
      "text/html": [
       "Finishing last run (ID:sfd7mank) before initializing another..."
      ],
      "text/plain": [
       "<IPython.core.display.HTML object>"
      ]
     },
     "metadata": {},
     "output_type": "display_data"
    },
    {
     "data": {
      "text/html": [
       "<br/>Waiting for W&B process to finish, PID 18269<br/>Program ended successfully."
      ],
      "text/plain": [
       "<IPython.core.display.HTML object>"
      ]
     },
     "metadata": {},
     "output_type": "display_data"
    },
    {
     "data": {
      "application/vnd.jupyter.widget-view+json": {
       "model_id": "",
       "version_major": 2,
       "version_minor": 0
      },
      "text/plain": [
       "VBox(children=(Label(value=' 0.00MB of 0.00MB uploaded (0.00MB deduped)\\r'), FloatProgress(value=1.0, max=1.0)…"
      ]
     },
     "metadata": {},
     "output_type": "display_data"
    },
    {
     "data": {
      "text/html": [
       "Find user logs for this run at: <code>/opt/ml/code/wandb/run-20210619_172446-sfd7mank/logs/debug.log</code>"
      ],
      "text/plain": [
       "<IPython.core.display.HTML object>"
      ]
     },
     "metadata": {},
     "output_type": "display_data"
    },
    {
     "data": {
      "text/html": [
       "Find internal logs for this run at: <code>/opt/ml/code/wandb/run-20210619_172446-sfd7mank/logs/debug-internal.log</code>"
      ],
      "text/plain": [
       "<IPython.core.display.HTML object>"
      ]
     },
     "metadata": {},
     "output_type": "display_data"
    },
    {
     "data": {
      "text/html": [
       "<h3>Run summary:</h3><br/><style>\n",
       "    table.wandb td:nth-child(1) { padding: 0 10px; text-align: right }\n",
       "    </style><table class=\"wandb\">\n",
       "<tr><td>training_auc</td><td>0.84845</td></tr><tr><td>valid_1_auc</td><td>0.80498</td></tr><tr><td>_runtime</td><td>100</td></tr><tr><td>_timestamp</td><td>1624123590</td></tr><tr><td>_step</td><td>99</td></tr></table>"
      ],
      "text/plain": [
       "<IPython.core.display.HTML object>"
      ]
     },
     "metadata": {},
     "output_type": "display_data"
    },
    {
     "data": {
      "text/html": [
       "<h3>Run history:</h3><br/><style>\n",
       "    table.wandb td:nth-child(1) { padding: 0 10px; text-align: right }\n",
       "    </style><table class=\"wandb\">\n",
       "<tr><td>training_auc</td><td>▁▂▃▃▃▄▄▄▄▅▅▅▅▆▆▆▆▆▆▆▆▇▇▇▇▇▇▇▇▇▇█████████</td></tr><tr><td>valid_1_auc</td><td>▁▂▃▃▄▄▄▄▅▅▆▆▆▆▆▆▆▇▇▇▇▇▇▇▇▇▇▇▇███████████</td></tr><tr><td>_runtime</td><td>▁▁▁▁▁▂▂▂▂▂▂▂▂▃▃▃▃▃▃▄▄▄▄▄▅▅▅▅▅▅▆▆▆▆▇▇▇▇██</td></tr><tr><td>_timestamp</td><td>▁▁▁▁▁▂▂▂▂▂▂▂▂▃▃▃▃▃▃▄▄▄▄▄▅▅▅▅▅▅▆▆▆▆▇▇▇▇██</td></tr><tr><td>_step</td><td>▁▁▁▁▂▂▂▂▂▃▃▃▃▃▃▄▄▄▄▄▅▅▅▅▅▅▆▆▆▆▆▇▇▇▇▇▇███</td></tr></table><br/>"
      ],
      "text/plain": [
       "<IPython.core.display.HTML object>"
      ]
     },
     "metadata": {},
     "output_type": "display_data"
    },
    {
     "data": {
      "text/html": [
       "Synced 5 W&B file(s), 0 media file(s), 0 artifact file(s) and 0 other file(s)"
      ],
      "text/plain": [
       "<IPython.core.display.HTML object>"
      ]
     },
     "metadata": {},
     "output_type": "display_data"
    },
    {
     "data": {
      "text/html": [
       "\n",
       "                    <br/>Synced <strong style=\"color:#cdcd00\">solar-meadow-2577</strong>: <a href=\"https://wandb.ai/team-ikyo/P4-DKT/runs/sfd7mank\" target=\"_blank\">https://wandb.ai/team-ikyo/P4-DKT/runs/sfd7mank</a><br/>\n",
       "                "
      ],
      "text/plain": [
       "<IPython.core.display.HTML object>"
      ]
     },
     "metadata": {},
     "output_type": "display_data"
    },
    {
     "data": {
      "text/html": [
       "...Successfully finished last run (ID:sfd7mank). Initializing new run:<br/><br/>"
      ],
      "text/plain": [
       "<IPython.core.display.HTML object>"
      ]
     },
     "metadata": {},
     "output_type": "display_data"
    },
    {
     "name": "stderr",
     "output_type": "stream",
     "text": [
      "\u001b[34m\u001b[1mwandb\u001b[0m: wandb version 0.10.32 is available!  To upgrade, please run:\n",
      "\u001b[34m\u001b[1mwandb\u001b[0m:  $ pip install wandb --upgrade\n"
     ]
    },
    {
     "data": {
      "text/html": [
       "\n",
       "                Tracking run with wandb version 0.10.30<br/>\n",
       "                Syncing run <strong style=\"color:#cdcd00\">olive-bush-2578</strong> to <a href=\"https://wandb.ai\" target=\"_blank\">Weights & Biases</a> <a href=\"https://docs.wandb.com/integrations/jupyter.html\" target=\"_blank\">(Documentation)</a>.<br/>\n",
       "                Project page: <a href=\"https://wandb.ai/team-ikyo/P4-DKT\" target=\"_blank\">https://wandb.ai/team-ikyo/P4-DKT</a><br/>\n",
       "                Run page: <a href=\"https://wandb.ai/team-ikyo/P4-DKT/runs/txgdytuh\" target=\"_blank\">https://wandb.ai/team-ikyo/P4-DKT/runs/txgdytuh</a><br/>\n",
       "                Run data is saved locally in <code>/opt/ml/code/wandb/run-20210619_172637-txgdytuh</code><br/><br/>\n",
       "            "
      ],
      "text/plain": [
       "<IPython.core.display.HTML object>"
      ]
     },
     "metadata": {},
     "output_type": "display_data"
    },
    {
     "name": "stdout",
     "output_type": "stream",
     "text": [
      "[LightGBM] [Info] Number of positive: 1652874, number of negative: 871616\n",
      "[LightGBM] [Warning] Auto-choosing col-wise multi-threading, the overhead of testing was 0.543932 seconds.\n",
      "You can set `force_col_wise=true` to remove the overhead.\n",
      "[LightGBM] [Info] Total Bins 25000\n",
      "[LightGBM] [Info] Number of data points in the train set: 2524490, number of used features: 37\n",
      "[LightGBM] [Info] [binary:BoostFromScore]: pavg=0.654736 -> initscore=0.639922\n",
      "[LightGBM] [Info] Start training from score 0.639922\n",
      "[100]\ttraining's auc: 0.848478\tvalid_1's auc: 0.813116\n",
      "VALID AUC : 0.8131155387686989 ACC : 0.732605729877217\n",
      "\n"
     ]
    },
    {
     "data": {
      "image/png": "[encoded data removed]",
      "text/plain": [
       "<Figure size 432x864 with 1 Axes>"
      ]
     },
     "metadata": {
      "needs_background": "light"
     },
     "output_type": "display_data"
    },
    {
     "name": "stdout",
     "output_type": "stream",
     "text": [
      "@@@@@@@@@@@@@@@@@@@@@@@@@@@@@@@@@@@@@@@@@@@@@@@@@@\n",
      "0 번째 fold\n",
      "@@@@@@@@@@@@@@@@@@@@@@@@@@@@@@@@@@@@@@@@@@@@@@@@@@\n",
      "==============================\n",
      "train, test shape\n",
      "(2524448, 135) (1508, 135)\n",
      "==============================\n",
      "\n"
     ]
    },
    {
     "data": {
      "text/html": [
       "Finishing last run (ID:txgdytuh) before initializing another..."
      ],
      "text/plain": [
       "<IPython.core.display.HTML object>"
      ]
     },
     "metadata": {},
     "output_type": "display_data"
    },
    {
     "data": {
      "text/html": [
       "<br/>Waiting for W&B process to finish, PID 18302<br/>Program ended successfully."
      ],
      "text/plain": [
       "<IPython.core.display.HTML object>"
      ]
     },
     "metadata": {},
     "output_type": "display_data"
    },
    {
     "data": {
      "application/vnd.jupyter.widget-view+json": {
       "model_id": "",
       "version_major": 2,
       "version_minor": 0
      },
      "text/plain": [
       "VBox(children=(Label(value=' 0.00MB of 0.00MB uploaded (0.00MB deduped)\\r'), FloatProgress(value=1.0, max=1.0)…"
      ]
     },
     "metadata": {},
     "output_type": "display_data"
    },
    {
     "data": {
      "text/html": [
       "Find user logs for this run at: <code>/opt/ml/code/wandb/run-20210619_172637-txgdytuh/logs/debug.log</code>"
      ],
      "text/plain": [
       "<IPython.core.display.HTML object>"
      ]
     },
     "metadata": {},
     "output_type": "display_data"
    },
    {
     "data": {
      "text/html": [
       "Find internal logs for this run at: <code>/opt/ml/code/wandb/run-20210619_172637-txgdytuh/logs/debug-internal.log</code>"
      ],
      "text/plain": [
       "<IPython.core.display.HTML object>"
      ]
     },
     "metadata": {},
     "output_type": "display_data"
    },
    {
     "data": {
      "text/html": [
       "<h3>Run summary:</h3><br/><style>\n",
       "    table.wandb td:nth-child(1) { padding: 0 10px; text-align: right }\n",
       "    </style><table class=\"wandb\">\n",
       "<tr><td>training_auc</td><td>0.84848</td></tr><tr><td>valid_1_auc</td><td>0.81312</td></tr><tr><td>_runtime</td><td>104</td></tr><tr><td>_timestamp</td><td>1624123704</td></tr><tr><td>_step</td><td>99</td></tr></table>"
      ],
      "text/plain": [
       "<IPython.core.display.HTML object>"
      ]
     },
     "metadata": {},
     "output_type": "display_data"
    },
    {
     "data": {
      "text/html": [
       "<h3>Run history:</h3><br/><style>\n",
       "    table.wandb td:nth-child(1) { padding: 0 10px; text-align: right }\n",
       "    </style><table class=\"wandb\">\n",
       "<tr><td>training_auc</td><td>▁▂▃▃▃▄▄▄▄▅▅▅▅▆▆▆▆▆▆▆▆▇▇▇▇▇▇▇▇▇▇█████████</td></tr><tr><td>valid_1_auc</td><td>▁▂▃▄▄▄▅▅▅▆▆▆▆▇▆▇▇▇▇▇▇▇██████████████████</td></tr><tr><td>_runtime</td><td>▁▁▁▁▁▂▂▂▂▂▂▂▂▃▃▃▃▃▃▄▄▄▄▄▄▅▅▅▅▅▆▆▆▆▇▇▇▇██</td></tr><tr><td>_timestamp</td><td>▁▁▁▁▁▂▂▂▂▂▂▂▂▃▃▃▃▃▃▄▄▄▄▄▄▅▅▅▅▅▆▆▆▆▇▇▇▇██</td></tr><tr><td>_step</td><td>▁▁▁▁▂▂▂▂▂▃▃▃▃▃▃▄▄▄▄▄▅▅▅▅▅▅▆▆▆▆▆▇▇▇▇▇▇███</td></tr></table><br/>"
      ],
      "text/plain": [
       "<IPython.core.display.HTML object>"
      ]
     },
     "metadata": {},
     "output_type": "display_data"
    },
    {
     "data": {
      "text/html": [
       "Synced 5 W&B file(s), 0 media file(s), 0 artifact file(s) and 0 other file(s)"
      ],
      "text/plain": [
       "<IPython.core.display.HTML object>"
      ]
     },
     "metadata": {},
     "output_type": "display_data"
    },
    {
     "data": {
      "text/html": [
       "\n",
       "                    <br/>Synced <strong style=\"color:#cdcd00\">olive-bush-2578</strong>: <a href=\"https://wandb.ai/team-ikyo/P4-DKT/runs/txgdytuh\" target=\"_blank\">https://wandb.ai/team-ikyo/P4-DKT/runs/txgdytuh</a><br/>\n",
       "                "
      ],
      "text/plain": [
       "<IPython.core.display.HTML object>"
      ]
     },
     "metadata": {},
     "output_type": "display_data"
    },
    {
     "data": {
      "text/html": [
       "...Successfully finished last run (ID:txgdytuh). Initializing new run:<br/><br/>"
      ],
      "text/plain": [
       "<IPython.core.display.HTML object>"
      ]
     },
     "metadata": {},
     "output_type": "display_data"
    },
    {
     "name": "stderr",
     "output_type": "stream",
     "text": [
      "\u001b[34m\u001b[1mwandb\u001b[0m: wandb version 0.10.32 is available!  To upgrade, please run:\n",
      "\u001b[34m\u001b[1mwandb\u001b[0m:  $ pip install wandb --upgrade\n"
     ]
    },
    {
     "data": {
      "text/html": [
       "\n",
       "                Tracking run with wandb version 0.10.30<br/>\n",
       "                Syncing run <strong style=\"color:#cdcd00\">leafy-disco-2579</strong> to <a href=\"https://wandb.ai\" target=\"_blank\">Weights & Biases</a> <a href=\"https://docs.wandb.com/integrations/jupyter.html\" target=\"_blank\">(Documentation)</a>.<br/>\n",
       "                Project page: <a href=\"https://wandb.ai/team-ikyo/P4-DKT\" target=\"_blank\">https://wandb.ai/team-ikyo/P4-DKT</a><br/>\n",
       "                Run page: <a href=\"https://wandb.ai/team-ikyo/P4-DKT/runs/ow74wc8y\" target=\"_blank\">https://wandb.ai/team-ikyo/P4-DKT/runs/ow74wc8y</a><br/>\n",
       "                Run data is saved locally in <code>/opt/ml/code/wandb/run-20210619_172831-ow74wc8y</code><br/><br/>\n",
       "            "
      ],
      "text/plain": [
       "<IPython.core.display.HTML object>"
      ]
     },
     "metadata": {},
     "output_type": "display_data"
    },
    {
     "name": "stdout",
     "output_type": "stream",
     "text": [
      "[LightGBM] [Info] Number of positive: 1652870, number of negative: 871578\n",
      "[LightGBM] [Warning] Auto-choosing col-wise multi-threading, the overhead of testing was 0.425213 seconds.\n",
      "You can set `force_col_wise=true` to remove the overhead.\n",
      "[LightGBM] [Info] Total Bins 25008\n",
      "[LightGBM] [Info] Number of data points in the train set: 2524448, number of used features: 37\n",
      "[LightGBM] [Info] [binary:BoostFromScore]: pavg=0.654745 -> initscore=0.639963\n",
      "[LightGBM] [Info] Start training from score 0.639963\n",
      "[100]\ttraining's auc: 0.848424\tvalid_1's auc: 0.837722\n",
      "VALID AUC : 0.8377216952857799 ACC : 0.7672413793103449\n",
      "\n"
     ]
    },
    {
     "data": {
      "image/png": "[encoded data removed]",
      "text/plain": [
       "<Figure size 432x864 with 1 Axes>"
      ]
     },
     "metadata": {
      "needs_background": "light"
     },
     "output_type": "display_data"
    },
    {
     "name": "stdout",
     "output_type": "stream",
     "text": [
      "@@@@@@@@@@@@@@@@@@@@@@@@@@@@@@@@@@@@@@@@@@@@@@@@@@\n",
      "0 번째 fold\n",
      "@@@@@@@@@@@@@@@@@@@@@@@@@@@@@@@@@@@@@@@@@@@@@@@@@@\n",
      "==============================\n",
      "train, test shape\n",
      "(2524466, 135) (1490, 135)\n",
      "==============================\n",
      "\n"
     ]
    },
    {
     "data": {
      "text/html": [
       "Finishing last run (ID:ow74wc8y) before initializing another..."
      ],
      "text/plain": [
       "<IPython.core.display.HTML object>"
      ]
     },
     "metadata": {},
     "output_type": "display_data"
    },
    {
     "data": {
      "text/html": [
       "<br/>Waiting for W&B process to finish, PID 18335<br/>Program ended successfully."
      ],
      "text/plain": [
       "<IPython.core.display.HTML object>"
      ]
     },
     "metadata": {},
     "output_type": "display_data"
    },
    {
     "data": {
      "application/vnd.jupyter.widget-view+json": {
       "model_id": "",
       "version_major": 2,
       "version_minor": 0
      },
      "text/plain": [
       "VBox(children=(Label(value=' 0.00MB of 0.00MB uploaded (0.00MB deduped)\\r'), FloatProgress(value=1.0, max=1.0)…"
      ]
     },
     "metadata": {},
     "output_type": "display_data"
    },
    {
     "data": {
      "text/html": [
       "Find user logs for this run at: <code>/opt/ml/code/wandb/run-20210619_172831-ow74wc8y/logs/debug.log</code>"
      ],
      "text/plain": [
       "<IPython.core.display.HTML object>"
      ]
     },
     "metadata": {},
     "output_type": "display_data"
    },
    {
     "data": {
      "text/html": [
       "Find internal logs for this run at: <code>/opt/ml/code/wandb/run-20210619_172831-ow74wc8y/logs/debug-internal.log</code>"
      ],
      "text/plain": [
       "<IPython.core.display.HTML object>"
      ]
     },
     "metadata": {},
     "output_type": "display_data"
    },
    {
     "data": {
      "text/html": [
       "<h3>Run summary:</h3><br/><style>\n",
       "    table.wandb td:nth-child(1) { padding: 0 10px; text-align: right }\n",
       "    </style><table class=\"wandb\">\n",
       "<tr><td>training_auc</td><td>0.84842</td></tr><tr><td>valid_1_auc</td><td>0.83772</td></tr><tr><td>_runtime</td><td>101</td></tr><tr><td>_timestamp</td><td>1624123815</td></tr><tr><td>_step</td><td>99</td></tr></table>"
      ],
      "text/plain": [
       "<IPython.core.display.HTML object>"
      ]
     },
     "metadata": {},
     "output_type": "display_data"
    },
    {
     "data": {
      "text/html": [
       "<h3>Run history:</h3><br/><style>\n",
       "    table.wandb td:nth-child(1) { padding: 0 10px; text-align: right }\n",
       "    </style><table class=\"wandb\">\n",
       "<tr><td>training_auc</td><td>▁▂▃▃▃▄▄▄▄▅▅▅▅▆▆▆▆▆▆▆▆▇▇▇▇▇▇▇▇▇▇█████████</td></tr><tr><td>valid_1_auc</td><td>▁▄▄▅▄▄▆▅▆▆▇▆▆▇▇▇▇▇▇▇▇▇▇▇▇▇▇▇████████████</td></tr><tr><td>_runtime</td><td>▁▁▁▁▁▂▂▂▂▂▂▂▂▃▃▃▃▃▃▄▄▄▄▄▄▅▅▅▅▅▆▆▆▆▇▇▇▇██</td></tr><tr><td>_timestamp</td><td>▁▁▁▁▁▂▂▂▂▂▂▂▂▃▃▃▃▃▃▄▄▄▄▄▄▅▅▅▅▅▆▆▆▆▇▇▇▇██</td></tr><tr><td>_step</td><td>▁▁▁▁▂▂▂▂▂▃▃▃▃▃▃▄▄▄▄▄▅▅▅▅▅▅▆▆▆▆▆▇▇▇▇▇▇███</td></tr></table><br/>"
      ],
      "text/plain": [
       "<IPython.core.display.HTML object>"
      ]
     },
     "metadata": {},
     "output_type": "display_data"
    },
    {
     "data": {
      "text/html": [
       "Synced 5 W&B file(s), 0 media file(s), 0 artifact file(s) and 0 other file(s)"
      ],
      "text/plain": [
       "<IPython.core.display.HTML object>"
      ]
     },
     "metadata": {},
     "output_type": "display_data"
    },
    {
     "data": {
      "text/html": [
       "\n",
       "                    <br/>Synced <strong style=\"color:#cdcd00\">leafy-disco-2579</strong>: <a href=\"https://wandb.ai/team-ikyo/P4-DKT/runs/ow74wc8y\" target=\"_blank\">https://wandb.ai/team-ikyo/P4-DKT/runs/ow74wc8y</a><br/>\n",
       "                "
      ],
      "text/plain": [
       "<IPython.core.display.HTML object>"
      ]
     },
     "metadata": {},
     "output_type": "display_data"
    },
    {
     "data": {
      "text/html": [
       "...Successfully finished last run (ID:ow74wc8y). Initializing new run:<br/><br/>"
      ],
      "text/plain": [
       "<IPython.core.display.HTML object>"
      ]
     },
     "metadata": {},
     "output_type": "display_data"
    },
    {
     "name": "stderr",
     "output_type": "stream",
     "text": [
      "\u001b[34m\u001b[1mwandb\u001b[0m: wandb version 0.10.32 is available!  To upgrade, please run:\n",
      "\u001b[34m\u001b[1mwandb\u001b[0m:  $ pip install wandb --upgrade\n"
     ]
    },
    {
     "data": {
      "text/html": [
       "\n",
       "                Tracking run with wandb version 0.10.30<br/>\n",
       "                Syncing run <strong style=\"color:#cdcd00\">serene-sun-2580</strong> to <a href=\"https://wandb.ai\" target=\"_blank\">Weights & Biases</a> <a href=\"https://docs.wandb.com/integrations/jupyter.html\" target=\"_blank\">(Documentation)</a>.<br/>\n",
       "                Project page: <a href=\"https://wandb.ai/team-ikyo/P4-DKT\" target=\"_blank\">https://wandb.ai/team-ikyo/P4-DKT</a><br/>\n",
       "                Run page: <a href=\"https://wandb.ai/team-ikyo/P4-DKT/runs/48bggk8q\" target=\"_blank\">https://wandb.ai/team-ikyo/P4-DKT/runs/48bggk8q</a><br/>\n",
       "                Run data is saved locally in <code>/opt/ml/code/wandb/run-20210619_173022-48bggk8q</code><br/><br/>\n",
       "            "
      ],
      "text/plain": [
       "<IPython.core.display.HTML object>"
      ]
     },
     "metadata": {},
     "output_type": "display_data"
    },
    {
     "name": "stdout",
     "output_type": "stream",
     "text": [
      "[LightGBM] [Info] Number of positive: 1652841, number of negative: 871625\n",
      "[LightGBM] [Warning] Auto-choosing col-wise multi-threading, the overhead of testing was 0.599690 seconds.\n",
      "You can set `force_col_wise=true` to remove the overhead.\n",
      "[LightGBM] [Info] Total Bins 24994\n",
      "[LightGBM] [Info] Number of data points in the train set: 2524466, number of used features: 37\n",
      "[LightGBM] [Info] [binary:BoostFromScore]: pavg=0.654729 -> initscore=0.639892\n",
      "[LightGBM] [Info] Start training from score 0.639892\n",
      "[100]\ttraining's auc: 0.848487\tvalid_1's auc: 0.809136\n",
      "VALID AUC : 0.8091360507079913 ACC : 0.723489932885906\n",
      "\n"
     ]
    },
    {
     "data": {
      "image/png": "[encoded data removed]",
      "text/plain": [
       "<Figure size 432x864 with 1 Axes>"
      ]
     },
     "metadata": {
      "needs_background": "light"
     },
     "output_type": "display_data"
    }
   ],
   "source": [
    "# # Best features\n",
    "# FEATS = ['assessmentItemID_acc', 'assessmentItemID_correct_answer', 'assessmentItemID_total_answer',\n",
    "#          'userID_question_class_acc', 'userID_question_class_correct_answer', 'userID_question_class_total_answer',\n",
    "#          'question_class', 'userID', 'assessmentItemID']\n",
    "\n",
    "# def learning_rate_decay(current_iter):\n",
    "#     lr = 1e-1 * (.999 ** (current_iter % 50))\n",
    "#     return lr\n",
    "\n",
    "# set parameters\n",
    "params = set_params()\n",
    "\n",
    "for fold_num, (train_df, test_df) in enumerate(zip(train_lst, test_lst)):\n",
    "    fold_num = 0\n",
    "    print(\"@\"*50)\n",
    "    print(fold_num, \"번째 fold\")\n",
    "    print(\"@\"*50)\n",
    "\n",
    "    # X, y 값 분리\n",
    "    y_train = train_df[\"answerCode\"]\n",
    "    train = train_df.drop([\"answerCode\"], axis=1)\n",
    "\n",
    "    y_test = test_df[\"answerCode\"]\n",
    "    test = test_df.drop([\"answerCode\"], axis=1)\n",
    "\n",
    "    print(\"=\"*30)\n",
    "    print(\"train, test shape\")\n",
    "    print(train.shape, test.shape)\n",
    "    print(\"=\"*30)\n",
    "    print()\n",
    "\n",
    "    lgb_train = lgb.Dataset(train[FEATS], y_train)\n",
    "    lgb_test = lgb.Dataset(test[FEATS], y_test)\n",
    "\n",
    "    now = datetime.now()\n",
    "    wandb.init(project='P4-DKT', config=params, entity=\"team-ikyo\")\n",
    "    wandb.run.name = \"sun-lgbm-fold\" + str(fold_num) + \" time: \" + \" \".join(map(str, [now.month, now.day, now.hour, now.minute]))\n",
    "\n",
    "    # train\n",
    "    model = lgb.train(params,\n",
    "                      lgb_train,\n",
    "                      valid_sets = [lgb_train, lgb_test],\n",
    "                      verbose_eval = 100,\n",
    "                      callbacks=[wandb_callback()])\n",
    "                     # lgb.reset_parameter(learning_rate = learning_rate_decay)])\n",
    "\n",
    "    preds = model.predict(test[FEATS])\n",
    "    acc = accuracy_score(y_test, np.where(preds >= 0.5, 1, 0))\n",
    "    auc = roc_auc_score(y_test, preds)\n",
    "\n",
    "    print(f'VALID AUC : {auc} ACC : {acc}\\n')\n",
    "\n",
    "    # show feature importance\n",
    "    fig, ax = plt.subplots(figsize=(6,12))\n",
    "    lgb.plot_importance(model, max_num_features=100, height=0.8, ax=ax)\n",
    "    plt.show()"
   ]
  },
  {
   "cell_type": "markdown",
   "metadata": {},
   "source": [
    "### Permutation importance"
   ]
  },
  {
   "cell_type": "code",
   "execution_count": 12,
   "metadata": {},
   "outputs": [],
   "source": [
    "def permutation_importance(model, X_val, y_val, metric, threshold=0.001, minimize=True, verbose=True):\n",
    "    results = {}\n",
    "    \n",
    "    y_pred = model.predict(X_val)\n",
    "    \n",
    "    results['base_score'] = metric(y_val, y_pred)\n",
    "    if verbose:\n",
    "        print(f'Base score {results[\"base_score\"]:.5}')\n",
    "\n",
    "    for col in X_val.columns:\n",
    "        if col in ['assessmentItemID', 'testId', 'question_class', 'question_num', 'userID', 'KnowledgeTag']:\n",
    "            continue\n",
    "        \n",
    "        freezed_col = X_val[col].copy()\n",
    "\n",
    "        X_val[col] = np.random.permutation(X_val[col])\n",
    "        \n",
    "        preds = model.predict(X_val)\n",
    "        results[col] = metric(y_val, preds)\n",
    "\n",
    "        X_val[col] = freezed_col\n",
    "        \n",
    "        if verbose:\n",
    "            print(f'column: {col} - {results[col]:.5}')\n",
    "    \n",
    "    if minimize:\n",
    "        bad_features = [k for k in results if results[k] < results['base_score'] + threshold]\n",
    "    else:\n",
    "        bad_features = [k for k in results if results[k] > results['base_score'] - threshold]\n",
    "    bad_features.remove('base_score')\n",
    "    \n",
    "    return results, bad_features"
   ]
  },
  {
   "cell_type": "code",
   "execution_count": 13,
   "metadata": {},
   "outputs": [
    {
     "name": "stdout",
     "output_type": "stream",
     "text": [
      "Base score 0.80914\n",
      "column: assessmentItemID_acc - 0.80782\n",
      "column: assessmentItemID_correct_answer - 0.80947\n",
      "column: assessmentItemID_total_answer - 0.80899\n",
      "column: userID_question_class_acc - 0.80577\n",
      "column: userID_question_class_correct_answer - 0.8078\n",
      "column: userID_question_class_total_answer - 0.80901\n",
      "column: question_class_acc - 0.80777\n",
      "column: question_class_correct_answer - 0.80914\n",
      "column: question_class_total_answer - 0.80914\n",
      "column: userID_testid_experience - 0.80914\n",
      "column: userID_assessmentItemID_experience - 0.8089\n",
      "column: assessmentItemID_lda - 0.80734\n",
      "column: userID_question_class_lda - 0.80877\n",
      "column: question_class_lda - 0.80767\n",
      "column: question_num_lda - 0.80914\n",
      "column: userID_lda - 0.80905\n",
      "column: KnowledgeTag_lda - 0.80907\n",
      "column: userID_KnowledgeTag_lda - 0.80394\n",
      "column: all_data_lda - 0.62124\n",
      "column: assessmentItemID_svd - 0.80932\n",
      "column: userID_question_class_svd - 0.8087\n",
      "column: question_class_svd - 0.80914\n",
      "column: question_num_svd - 0.80914\n",
      "column: userID_svd - 0.80914\n",
      "column: KnowledgeTag_svd - 0.80913\n",
      "column: userID_KnowledgeTag_svd - 0.8079\n",
      "column: all_data_svd - 0.80914\n",
      "column: userID_elapsed_median_rolling_5 - 0.78766\n",
      "column: userID_elapsed_median_rolling_10 - 0.80861\n",
      "column: userID_elapsed_median_rolling_15 - 0.80908\n",
      "column: userID_elapsed_median_rolling_30 - 0.80914\n"
     ]
    }
   ],
   "source": [
    "results, bad_features = permutation_importance(model, test[FEATS], y_test, roc_auc_score, minimize=False)"
   ]
  },
  {
   "cell_type": "code",
   "execution_count": 14,
   "metadata": {},
   "outputs": [
    {
     "data": {
      "text/plain": [
       "['assessmentItemID_correct_answer',\n",
       " 'assessmentItemID_total_answer',\n",
       " 'userID_question_class_total_answer',\n",
       " 'question_class_correct_answer',\n",
       " 'question_class_total_answer',\n",
       " 'userID_testid_experience',\n",
       " 'userID_assessmentItemID_experience',\n",
       " 'userID_question_class_lda',\n",
       " 'question_num_lda',\n",
       " 'userID_lda',\n",
       " 'KnowledgeTag_lda',\n",
       " 'assessmentItemID_svd',\n",
       " 'userID_question_class_svd',\n",
       " 'question_class_svd',\n",
       " 'question_num_svd',\n",
       " 'userID_svd',\n",
       " 'KnowledgeTag_svd',\n",
       " 'all_data_svd',\n",
       " 'userID_elapsed_median_rolling_10',\n",
       " 'userID_elapsed_median_rolling_15',\n",
       " 'userID_elapsed_median_rolling_30']"
      ]
     },
     "execution_count": 14,
     "metadata": {},
     "output_type": "execute_result"
    }
   ],
   "source": [
    "bad_features"
   ]
  },
  {
   "cell_type": "code",
   "execution_count": 15,
   "metadata": {},
   "outputs": [
    {
     "data": {
      "text/plain": [
       "['userID_question_class_correct_answer',\n",
       " 'userID_elapsed_median_rolling_5',\n",
       " 'question_class',\n",
       " 'assessmentItemID_lda',\n",
       " 'userID_question_class_acc',\n",
       " 'question_class_acc',\n",
       " 'question_class_lda',\n",
       " 'testId',\n",
       " 'all_data_lda',\n",
       " 'assessmentItemID_acc',\n",
       " 'assessmentItemID',\n",
       " 'userID_KnowledgeTag_lda',\n",
       " 'KnowledgeTag',\n",
       " 'userID',\n",
       " 'question_num',\n",
       " 'userID_KnowledgeTag_svd']"
      ]
     },
     "execution_count": 15,
     "metadata": {},
     "output_type": "execute_result"
    }
   ],
   "source": [
    "new_FEATS = list(set(FEATS) - set(bad_features))\n",
    "\n",
    "new_FEATS"
   ]
  },
  {
   "cell_type": "markdown",
   "metadata": {},
   "source": [
    "### AutoML"
   ]
  },
  {
   "cell_type": "code",
   "execution_count": 16,
   "metadata": {},
   "outputs": [],
   "source": [
    "def train_optuna(num_leaves, min_data_in_leaf, max_bin, bagging_fraction, feature_fraction, lambda_l1, lambda_l2,\n",
    "                 train_df=train_df):\n",
    "    skf = StratifiedKFold(n_splits=3, shuffle=True, random_state=2021)\n",
    "    \n",
    "    params = {}\n",
    "    params[\"boosting_type\"] = \"dart\" # gbdt, dart, goss\n",
    "    params[\"learning_rate\"] = 5e-2 # 1e-1, 5e-2, 1e-2, 5e-3, 1e-3\n",
    "    params[\"objective\"] = \"binary\"\n",
    "    params[\"metric\"] = \"auc\" # binary_logloss, rmse, huber, auc\n",
    "    params[\"num_iterations\"] = 10 # 100\n",
    "    params[\"max_depth\"] = -1 # -1\n",
    "    params[\"num_leaves\"] = int(num_leaves) # 31 이상적으로 num_leaves값은 2 ^ (max_depth) 값보다 적거나 같아야 합니다.\n",
    "    params[\"min_data_in_leaf\"] = int(min_data_in_leaf) # 20 100 ~ 1000 수백 또는 수천 개로 정하는 것\n",
    "    params[\"max_bin\"] = int(max_bin) # 256\n",
    "    params[\"bagging_fraction\"] = bagging_fraction # 1.0\n",
    "    params[\"feature_fraction\"] = feature_fraction # 1.0\n",
    "    params[\"lambda_l1\"] = lambda_l1 # 0.0\n",
    "    params[\"lambda_l2\"] = lambda_l2 # 0.0\n",
    "    params[\"random_state\"] = 2021\n",
    "\n",
    "    auc_score = 0\n",
    "    \n",
    "    print(\"@\"*50)\n",
    "    print(\"start\")\n",
    "    print(\"@\"*50)\n",
    "\n",
    "    for fold, (train_index, test_index) in enumerate(skf.split(train_df, train_df[\"answerCode\"])):\n",
    "        temp_train = train_df.iloc[train_index,:]\n",
    "        temp_valid = train_df.iloc[test_index,:]\n",
    "        \n",
    "        y_train = train_df[\"answerCode\"].iloc[train_index]\n",
    "        y_test = train_df[\"answerCode\"].iloc[test_index]\n",
    "        \n",
    "        lgb_train = lgb.Dataset(temp_train[new_FEATS], y_train)\n",
    "        lgb_test = lgb.Dataset(temp_valid[new_FEATS], y_test)\n",
    "\n",
    "        # train\n",
    "        model = lgb.train(params,\n",
    "                          lgb_train,\n",
    "                          valid_sets = [lgb_train, lgb_test],\n",
    "                          verbose_eval = 100,\n",
    "                          callbacks=[wandb_callback()])\n",
    "        \n",
    "        \n",
    "        preds = model.predict(temp_valid[new_FEATS])\n",
    "        acc = accuracy_score(y_test, np.where(preds >= 0.5, 1, 0))\n",
    "        auc = roc_auc_score(y_test, preds)\n",
    "\n",
    "        auc_score += auc\n",
    "\n",
    "    print(auc_score / 5)\n",
    "    return auc_score / 5"
   ]
  },
  {
   "cell_type": "code",
   "execution_count": 17,
   "metadata": {},
   "outputs": [],
   "source": [
    "lgbm_bo = BayesianOptimization(train_optuna, {'num_leaves': (16, 512),\n",
    "                                              'min_data_in_leaf': (20, 1000),\n",
    "                                              'max_bin': (10, 256),\n",
    "                                              'bagging_fraction': (0.5, 1),\n",
    "                                              'feature_fraction': (0.5, 1),\n",
    "                                              'lambda_l1' : (0, 10),\n",
    "                                              'lambda_l2' : (0, 10)})"
   ]
  },
  {
   "cell_type": "code",
   "execution_count": 18,
   "metadata": {},
   "outputs": [
    {
     "name": "stdout",
     "output_type": "stream",
     "text": [
      "|   iter    |  target   | baggin... | featur... | lambda_l1 | lambda_l2 |  max_bin  | min_da... | num_le... |\n",
      "-------------------------------------------------------------------------------------------------------------\n",
      "@@@@@@@@@@@@@@@@@@@@@@@@@@@@@@@@@@@@@@@@@@@@@@@@@@\n",
      "start\n",
      "@@@@@@@@@@@@@@@@@@@@@@@@@@@@@@@@@@@@@@@@@@@@@@@@@@\n",
      "[LightGBM] [Info] Number of positive: 1101894, number of negative: 581083\n",
      "[LightGBM] [Warning] Auto-choosing row-wise multi-threading, the overhead of testing was 0.032849 seconds.\n",
      "You can set `force_row_wise=true` to remove the overhead.\n",
      "And if memory is not enough, you can set `force_col_wise=true`.\n",
      "[LightGBM] [Info] Total Bins 19315\n",
      "[LightGBM] [Info] Number of data points in the train set: 1682977, number of used features: 16\n",
      "[LightGBM] [Info] [binary:BoostFromScore]: pavg=0.654729 -> initscore=0.639892\n",
      "[LightGBM] [Info] Start training from score 0.639892\n",
      "[LightGBM] [Info] Number of positive: 1101894, number of negative: 581083\n",
      "[LightGBM] [Warning] Auto-choosing col-wise multi-threading, the overhead of testing was 0.262100 seconds.\n",
      "You can set `force_col_wise=true` to remove the overhead.\n",
      "[LightGBM] [Info] Total Bins 19297\n",
      "[LightGBM] [Info] Number of data points in the train set: 1682977, number of used features: 16\n",
      "[LightGBM] [Info] [binary:BoostFromScore]: pavg=0.654729 -> initscore=0.639892\n",
      "[LightGBM] [Info] Start training from score 0.639892\n",
      "[LightGBM] [Info] Number of positive: 1101894, number of negative: 581084\n",
      "[LightGBM] [Warning] Auto-choosing row-wise multi-threading, the overhead of testing was 0.035968 seconds.\n",
      "You can set `force_row_wise=true` to remove the overhead.\n",
      "And if memory is not enough, you can set `force_col_wise=true`.\n",
      "[LightGBM] [Info] Total Bins 19309\n",
      "[LightGBM] [Info] Number of data points in the train set: 1682978, number of used features: 16\n",
      "[LightGBM] [Info] [binary:BoostFromScore]: pavg=0.654729 -> initscore=0.639890\n",
      "[LightGBM] [Info] Start training from score 0.639890\n",
      "0.4991880736397416\n",
      "| \u001b[0m 1       \u001b[0m | \u001b[0m 0.4992  \u001b[0m | \u001b[0m 0.6942  \u001b[0m | \u001b[0m 0.8675  \u001b[0m | \u001b[0m 7.646   \u001b[0m | \u001b[0m 6.016   \u001b[0m | \u001b[0m 176.7   \u001b[0m | \u001b[0m 620.6   \u001b[0m | \u001b[0m 256.4   \u001b[0m |\n",
      "@@@@@@@@@@@@@@@@@@@@@@@@@@@@@@@@@@@@@@@@@@@@@@@@@@\n",
      "start\n",
      "@@@@@@@@@@@@@@@@@@@@@@@@@@@@@@@@@@@@@@@@@@@@@@@@@@\n",
      "[LightGBM] [Info] Number of positive: 1101894, number of negative: 581083\n",
      "[LightGBM] [Warning] Auto-choosing col-wise multi-threading, the overhead of testing was 0.150602 seconds.\n",
      "You can set `force_col_wise=true` to remove the overhead.\n",
      "[LightGBM] [Info] Total Bins 19485\n",
      "[LightGBM] [Info] Number of data points in the train set: 1682977, number of used features: 16\n",
      "[LightGBM] [Info] [binary:BoostFromScore]: pavg=0.654729 -> initscore=0.639892\n",
      "[LightGBM] [Info] Start training from score 0.639892\n",
      "[LightGBM] [Info] Number of positive: 1101894, number of negative: 581083\n",
      "[LightGBM] [Warning] Auto-choosing col-wise multi-threading, the overhead of testing was 0.226611 seconds.\n",
      "You can set `force_col_wise=true` to remove the overhead.\n",
      "[LightGBM] [Info] Total Bins 19467\n",
      "[LightGBM] [Info] Number of data points in the train set: 1682977, number of used features: 16\n",
      "[LightGBM] [Info] [binary:BoostFromScore]: pavg=0.654729 -> initscore=0.639892\n",
      "[LightGBM] [Info] Start training from score 0.639892\n",
      "[LightGBM] [Info] Number of positive: 1101894, number of negative: 581084\n",
      "[LightGBM] [Warning] Auto-choosing col-wise multi-threading, the overhead of testing was 0.107780 seconds.\n",
      "You can set `force_col_wise=true` to remove the overhead.\n",
      "[LightGBM] [Info] Total Bins 19479\n",
      "[LightGBM] [Info] Number of data points in the train set: 1682978, number of used features: 16\n",
      "[LightGBM] [Info] [binary:BoostFromScore]: pavg=0.654729 -> initscore=0.639890\n",
      "[LightGBM] [Info] Start training from score 0.639890\n",
      "0.4990461546350316\n",
      "| \u001b[0m 2       \u001b[0m | \u001b[0m 0.499   \u001b[0m | \u001b[0m 0.5351  \u001b[0m | \u001b[0m 0.6165  \u001b[0m | \u001b[0m 4.278   \u001b[0m | \u001b[0m 7.662   \u001b[0m | \u001b[0m 193.4   \u001b[0m | \u001b[0m 945.2   \u001b[0m | \u001b[0m 183.7   \u001b[0m |\n",
      "@@@@@@@@@@@@@@@@@@@@@@@@@@@@@@@@@@@@@@@@@@@@@@@@@@\n",
      "start\n",
      "@@@@@@@@@@@@@@@@@@@@@@@@@@@@@@@@@@@@@@@@@@@@@@@@@@\n",
      "[LightGBM] [Info] Number of positive: 1101894, number of negative: 581083\n",
      "[LightGBM] [Warning] Auto-choosing row-wise multi-threading, the overhead of testing was 0.034947 seconds.\n",
      "You can set `force_row_wise=true` to remove the overhead.\n",
      "And if memory is not enough, you can set `force_col_wise=true`.\n",
      "[LightGBM] [Info] Total Bins 19255\n",
      "[LightGBM] [Info] Number of data points in the train set: 1682977, number of used features: 16\n",
      "[LightGBM] [Info] [binary:BoostFromScore]: pavg=0.654729 -> initscore=0.639892\n",
      "[LightGBM] [Info] Start training from score 0.639892\n",
      "[LightGBM] [Info] Number of positive: 1101894, number of negative: 581083\n",
      "[LightGBM] [Warning] Auto-choosing col-wise multi-threading, the overhead of testing was 0.271151 seconds.\n",
      "You can set `force_col_wise=true` to remove the overhead.\n",
      "[LightGBM] [Info] Total Bins 19237\n",
      "[LightGBM] [Info] Number of data points in the train set: 1682977, number of used features: 16\n",
      "[LightGBM] [Info] [binary:BoostFromScore]: pavg=0.654729 -> initscore=0.639892\n",
      "[LightGBM] [Info] Start training from score 0.639892\n",
      "[LightGBM] [Info] Number of positive: 1101894, number of negative: 581084\n",
      "[LightGBM] [Warning] Auto-choosing row-wise multi-threading, the overhead of testing was 0.032964 seconds.\n",
      "You can set `force_row_wise=true` to remove the overhead.\n",
      "And if memory is not enough, you can set `force_col_wise=true`.\n",
      "[LightGBM] [Info] Total Bins 19249\n",
      "[LightGBM] [Info] Number of data points in the train set: 1682978, number of used features: 16\n",
      "[LightGBM] [Info] [binary:BoostFromScore]: pavg=0.654729 -> initscore=0.639890\n",
      "[LightGBM] [Info] Start training from score 0.639890\n",
      "0.49917224286305384\n",
      "| \u001b[0m 3       \u001b[0m | \u001b[0m 0.4992  \u001b[0m | \u001b[0m 0.9048  \u001b[0m | \u001b[0m 0.9592  \u001b[0m | \u001b[0m 5.62    \u001b[0m | \u001b[0m 7.988   \u001b[0m | \u001b[0m 170.4   \u001b[0m | \u001b[0m 618.5   \u001b[0m | \u001b[0m 262.8   \u001b[0m |\n",
      "@@@@@@@@@@@@@@@@@@@@@@@@@@@@@@@@@@@@@@@@@@@@@@@@@@\n",
      "start\n",
      "@@@@@@@@@@@@@@@@@@@@@@@@@@@@@@@@@@@@@@@@@@@@@@@@@@\n",
      "[LightGBM] [Info] Number of positive: 1101894, number of negative: 581083\n",
      "[LightGBM] [Warning] Auto-choosing row-wise multi-threading, the overhead of testing was 0.023693 seconds.\n",
      "You can set `force_row_wise=true` to remove the overhead.\n",
      "And if memory is not enough, you can set `force_col_wise=true`.\n",
      "[LightGBM] [Info] Total Bins 19305\n",
      "[LightGBM] [Info] Number of data points in the train set: 1682977, number of used features: 16\n",
      "[LightGBM] [Info] [binary:BoostFromScore]: pavg=0.654729 -> initscore=0.639892\n",
      "[LightGBM] [Info] Start training from score 0.639892\n",
      "[LightGBM] [Info] Number of positive: 1101894, number of negative: 581083\n",
      "[LightGBM] [Warning] Auto-choosing row-wise multi-threading, the overhead of testing was 0.021775 seconds.\n",
      "You can set `force_row_wise=true` to remove the overhead.\n",
      "And if memory is not enough, you can set `force_col_wise=true`.\n",
      "[LightGBM] [Info] Total Bins 19287\n",
      "[LightGBM] [Info] Number of data points in the train set: 1682977, number of used features: 16\n",
      "[LightGBM] [Info] [binary:BoostFromScore]: pavg=0.654729 -> initscore=0.639892\n",
      "[LightGBM] [Info] Start training from score 0.639892\n",
      "[LightGBM] [Info] Number of positive: 1101894, number of negative: 581084\n",
      "[LightGBM] [Warning] Auto-choosing row-wise multi-threading, the overhead of testing was 0.023475 seconds.\n",
      "You can set `force_row_wise=true` to remove the overhead.\n",
      "And if memory is not enough, you can set `force_col_wise=true`.\n",
      "[LightGBM] [Info] Total Bins 19299\n",
      "[LightGBM] [Info] Number of data points in the train set: 1682978, number of used features: 16\n",
      "[LightGBM] [Info] [binary:BoostFromScore]: pavg=0.654729 -> initscore=0.639890\n",
      "[LightGBM] [Info] Start training from score 0.639890\n",
      "0.49937466830404\n",
      "| \u001b[95m 4       \u001b[0m | \u001b[95m 0.4994  \u001b[0m | \u001b[95m 0.9172  \u001b[0m | \u001b[95m 0.5705  \u001b[0m | \u001b[95m 7.658   \u001b[0m | \u001b[95m 3.864   \u001b[0m | \u001b[95m 175.3   \u001b[0m | \u001b[95m 627.9   \u001b[0m | \u001b[95m 259.7   \u001b[0m |\n",
      "@@@@@@@@@@@@@@@@@@@@@@@@@@@@@@@@@@@@@@@@@@@@@@@@@@\n",
      "start\n",
      "@@@@@@@@@@@@@@@@@@@@@@@@@@@@@@@@@@@@@@@@@@@@@@@@@@\n",
      "[LightGBM] [Info] Number of positive: 1101894, number of negative: 581083\n",
      "[LightGBM] [Warning] Auto-choosing row-wise multi-threading, the overhead of testing was 0.035023 seconds.\n",
      "You can set `force_row_wise=true` to remove the overhead.\n",
      "And if memory is not enough, you can set `force_col_wise=true`.\n",
      "[LightGBM] [Info] Total Bins 19015\n",
      "[LightGBM] [Info] Number of data points in the train set: 1682977, number of used features: 16\n",
      "[LightGBM] [Info] [binary:BoostFromScore]: pavg=0.654729 -> initscore=0.639892\n",
      "[LightGBM] [Info] Start training from score 0.639892\n",
      "[LightGBM] [Info] Number of positive: 1101894, number of negative: 581083\n",
      "[LightGBM] [Warning] Auto-choosing row-wise multi-threading, the overhead of testing was 0.033781 seconds.\n",
      "You can set `force_row_wise=true` to remove the overhead.\n",
      "And if memory is not enough, you can set `force_col_wise=true`.\n",
      "[LightGBM] [Info] Total Bins 18997\n",
      "[LightGBM] [Info] Number of data points in the train set: 1682977, number of used features: 16\n",
      "[LightGBM] [Info] [binary:BoostFromScore]: pavg=0.654729 -> initscore=0.639892\n",
      "[LightGBM] [Info] Start training from score 0.639892\n",
      "[LightGBM] [Info] Number of positive: 1101894, number of negative: 581084\n",
      "[LightGBM] [Warning] Auto-choosing row-wise multi-threading, the overhead of testing was 0.031771 seconds.\n",
      "You can set `force_row_wise=true` to remove the overhead.\n",
      "And if memory is not enough, you can set `force_col_wise=true`.\n",
      "[LightGBM] [Info] Total Bins 19009\n",
      "[LightGBM] [Info] Number of data points in the train set: 1682978, number of used features: 16\n",
      "[LightGBM] [Info] [binary:BoostFromScore]: pavg=0.654729 -> initscore=0.639890\n",
      "[LightGBM] [Info] Start training from score 0.639890\n",
      "0.49824766561616196\n",
      "| \u001b[0m 5       \u001b[0m | \u001b[0m 0.4982  \u001b[0m | \u001b[0m 0.6968  \u001b[0m | \u001b[0m 0.9719  \u001b[0m | \u001b[0m 5.153   \u001b[0m | \u001b[0m 1.699   \u001b[0m | \u001b[0m 146.9   \u001b[0m | \u001b[0m 46.22   \u001b[0m | \u001b[0m 243.6   \u001b[0m |\n",
      "@@@@@@@@@@@@@@@@@@@@@@@@@@@@@@@@@@@@@@@@@@@@@@@@@@\n",
      "start\n",
      "@@@@@@@@@@@@@@@@@@@@@@@@@@@@@@@@@@@@@@@@@@@@@@@@@@\n",
      "[LightGBM] [Info] Number of positive: 1101894, number of negative: 581083\n",
      "[LightGBM] [Warning] Auto-choosing row-wise multi-threading, the overhead of testing was 0.022291 seconds.\n",
      "You can set `force_row_wise=true` to remove the overhead.\n",
      "And if memory is not enough, you can set `force_col_wise=true`.\n",
      "[LightGBM] [Info] Total Bins 19315\n",
      "[LightGBM] [Info] Number of data points in the train set: 1682977, number of used features: 16\n",
      "[LightGBM] [Info] [binary:BoostFromScore]: pavg=0.654729 -> initscore=0.639892\n",
      "[LightGBM] [Info] Start training from score 0.639892\n",
      "[LightGBM] [Info] Number of positive: 1101894, number of negative: 581083\n",
      "[LightGBM] [Warning] Auto-choosing row-wise multi-threading, the overhead of testing was 0.021259 seconds.\n",
      "You can set `force_row_wise=true` to remove the overhead.\n",
      "And if memory is not enough, you can set `force_col_wise=true`.\n",
      "[LightGBM] [Info] Total Bins 19297\n",
      "[LightGBM] [Info] Number of data points in the train set: 1682977, number of used features: 16\n",
      "[LightGBM] [Info] [binary:BoostFromScore]: pavg=0.654729 -> initscore=0.639892\n",
      "[LightGBM] [Info] Start training from score 0.639892\n",
      "[LightGBM] [Info] Number of positive: 1101894, number of negative: 581084\n",
      "[LightGBM] [Warning] Auto-choosing row-wise multi-threading, the overhead of testing was 0.023667 seconds.\n",
      "You can set `force_row_wise=true` to remove the overhead.\n",
      "And if memory is not enough, you can set `force_col_wise=true`.\n",
      "[LightGBM] [Info] Total Bins 19309\n",
      "[LightGBM] [Info] Number of data points in the train set: 1682978, number of used features: 16\n",
      "[LightGBM] [Info] [binary:BoostFromScore]: pavg=0.654729 -> initscore=0.639890\n",
      "[LightGBM] [Info] Start training from score 0.639890\n",
      "0.4993547741350028\n",
      "| \u001b[0m 6       \u001b[0m | \u001b[0m 0.4994  \u001b[0m | \u001b[0m 0.7699  \u001b[0m | \u001b[0m 0.5432  \u001b[0m | \u001b[0m 5.242   \u001b[0m | \u001b[0m 8.487   \u001b[0m | \u001b[0m 176.8   \u001b[0m | \u001b[0m 650.2   \u001b[0m | \u001b[0m 256.2   \u001b[0m |\n",
      "@@@@@@@@@@@@@@@@@@@@@@@@@@@@@@@@@@@@@@@@@@@@@@@@@@\n",
      "start\n",
      "@@@@@@@@@@@@@@@@@@@@@@@@@@@@@@@@@@@@@@@@@@@@@@@@@@\n",
      "[LightGBM] [Info] Number of positive: 1101894, number of negative: 581083\n",
      "[LightGBM] [Warning] Auto-choosing col-wise multi-threading, the overhead of testing was 0.087377 seconds.\n",
      "You can set `force_col_wise=true` to remove the overhead.\n",
      "[LightGBM] [Info] Total Bins 19385\n",
      "[LightGBM] [Info] Number of data points in the train set: 1682977, number of used features: 16\n",
      "[LightGBM] [Info] [binary:BoostFromScore]: pavg=0.654729 -> initscore=0.639892\n",
      "[LightGBM] [Info] Start training from score 0.639892\n",
      "[LightGBM] [Info] Number of positive: 1101894, number of negative: 581083\n",
      "[LightGBM] [Warning] Auto-choosing col-wise multi-threading, the overhead of testing was 0.090262 seconds.\n",
      "You can set `force_col_wise=true` to remove the overhead.\n",
      "[LightGBM] [Info] Total Bins 19367\n",
      "[LightGBM] [Info] Number of data points in the train set: 1682977, number of used features: 16\n",
      "[LightGBM] [Info] [binary:BoostFromScore]: pavg=0.654729 -> initscore=0.639892\n",
      "[LightGBM] [Info] Start training from score 0.639892\n",
      "[LightGBM] [Info] Number of positive: 1101894, number of negative: 581084\n",
      "[LightGBM] [Warning] Auto-choosing row-wise multi-threading, the overhead of testing was 0.029710 seconds.\n",
      "You can set `force_row_wise=true` to remove the overhead.\n",
      "And if memory is not enough, you can set `force_col_wise=true`.\n",
      "[LightGBM] [Info] Total Bins 19379\n",
      "[LightGBM] [Info] Number of data points in the train set: 1682978, number of used features: 16\n",
      "[LightGBM] [Info] [binary:BoostFromScore]: pavg=0.654729 -> initscore=0.639890\n",
      "[LightGBM] [Info] Start training from score 0.639890\n",
      "0.49966067721580476\n",
      "| \u001b[95m 7       \u001b[0m | \u001b[95m 0.4997  \u001b[0m | \u001b[95m 0.7796  \u001b[0m | \u001b[95m 0.6905  \u001b[0m | \u001b[95m 5.743   \u001b[0m | \u001b[95m 9.019   \u001b[0m | \u001b[95m 183.7   \u001b[0m | \u001b[95m 646.5   \u001b[0m | \u001b[95m 282.9   \u001b[0m |\n",
      "@@@@@@@@@@@@@@@@@@@@@@@@@@@@@@@@@@@@@@@@@@@@@@@@@@\n",
      "start\n",
      "@@@@@@@@@@@@@@@@@@@@@@@@@@@@@@@@@@@@@@@@@@@@@@@@@@\n",
      "[LightGBM] [Info] Number of positive: 1101894, number of negative: 581083\n",
      "[LightGBM] [Warning] Auto-choosing row-wise multi-threading, the overhead of testing was 0.043650 seconds.\n",
      "You can set `force_row_wise=true` to remove the overhead.\n",
      "And if memory is not enough, you can set `force_col_wise=true`.\n",
      "[LightGBM] [Info] Total Bins 19665\n",
      "[LightGBM] [Info] Number of data points in the train set: 1682977, number of used features: 16\n",
      "[LightGBM] [Info] [binary:BoostFromScore]: pavg=0.654729 -> initscore=0.639892\n",
      "[LightGBM] [Info] Start training from score 0.639892\n",
      "[LightGBM] [Info] Number of positive: 1101894, number of negative: 581083\n",
      "[LightGBM] [Warning] Auto-choosing row-wise multi-threading, the overhead of testing was 0.032418 seconds.\n",
      "You can set `force_row_wise=true` to remove the overhead.\n",
      "And if memory is not enough, you can set `force_col_wise=true`.\n",
      "[LightGBM] [Info] Total Bins 19647\n",
      "[LightGBM] [Info] Number of data points in the train set: 1682977, number of used features: 16\n",
      "[LightGBM] [Info] [binary:BoostFromScore]: pavg=0.654729 -> initscore=0.639892\n",
      "[LightGBM] [Info] Start training from score 0.639892\n",
      "[LightGBM] [Info] Number of positive: 1101894, number of negative: 581084\n",
      "[LightGBM] [Warning] Auto-choosing row-wise multi-threading, the overhead of testing was 0.033105 seconds.\n",
      "You can set `force_row_wise=true` to remove the overhead.\n",
      "And if memory is not enough, you can set `force_col_wise=true`.\n",
      "[LightGBM] [Info] Total Bins 19659\n",
      "[LightGBM] [Info] Number of data points in the train set: 1682978, number of used features: 16\n",
      "[LightGBM] [Info] [binary:BoostFromScore]: pavg=0.654729 -> initscore=0.639890\n",
      "[LightGBM] [Info] Start training from score 0.639890\n",
      "0.4986258538546828\n",
      "| \u001b[0m 8       \u001b[0m | \u001b[0m 0.4986  \u001b[0m | \u001b[0m 0.7325  \u001b[0m | \u001b[0m 0.9752  \u001b[0m | \u001b[0m 5.997   \u001b[0m | \u001b[0m 3.319   \u001b[0m | \u001b[0m 211.3   \u001b[0m | \u001b[0m 648.8   \u001b[0m | \u001b[0m 294.8   \u001b[0m |\n",
      "@@@@@@@@@@@@@@@@@@@@@@@@@@@@@@@@@@@@@@@@@@@@@@@@@@\n",
      "start\n",
      "@@@@@@@@@@@@@@@@@@@@@@@@@@@@@@@@@@@@@@@@@@@@@@@@@@\n",
      "[LightGBM] [Info] Number of positive: 1101894, number of negative: 581083\n",
      "[LightGBM] [Warning] Auto-choosing row-wise multi-threading, the overhead of testing was 0.033679 seconds.\n",
      "You can set `force_row_wise=true` to remove the overhead.\n",
      "And if memory is not enough, you can set `force_col_wise=true`.\n",
      "[LightGBM] [Info] Total Bins 19335\n",
      "[LightGBM] [Info] Number of data points in the train set: 1682977, number of used features: 16\n",
      "[LightGBM] [Info] [binary:BoostFromScore]: pavg=0.654729 -> initscore=0.639892\n",
      "[LightGBM] [Info] Start training from score 0.639892\n",
      "[LightGBM] [Info] Number of positive: 1101894, number of negative: 581083\n",
      "[LightGBM] [Warning] Auto-choosing row-wise multi-threading, the overhead of testing was 0.033990 seconds.\n",
      "You can set `force_row_wise=true` to remove the overhead.\n",
      "And if memory is not enough, you can set `force_col_wise=true`.\n",
      "[LightGBM] [Info] Total Bins 19317\n",
      "[LightGBM] [Info] Number of data points in the train set: 1682977, number of used features: 16\n",
      "[LightGBM] [Info] [binary:BoostFromScore]: pavg=0.654729 -> initscore=0.639892\n",
      "[LightGBM] [Info] Start training from score 0.639892\n",
      "[LightGBM] [Info] Number of positive: 1101894, number of negative: 581084\n",
      "[LightGBM] [Warning] Auto-choosing row-wise multi-threading, the overhead of testing was 0.035500 seconds.\n",
      "You can set `force_row_wise=true` to remove the overhead.\n",
      "And if memory is not enough, you can set `force_col_wise=true`.\n",
      "[LightGBM] [Info] Total Bins 19329\n",
      "[LightGBM] [Info] Number of data points in the train set: 1682978, number of used features: 16\n",
      "[LightGBM] [Info] [binary:BoostFromScore]: pavg=0.654729 -> initscore=0.639890\n",
      "[LightGBM] [Info] Start training from score 0.639890\n",
      "0.49920670655196353\n",
      "| \u001b[0m 9       \u001b[0m | \u001b[0m 0.4992  \u001b[0m | \u001b[0m 0.9761  \u001b[0m | \u001b[0m 0.8682  \u001b[0m | \u001b[0m 5.045   \u001b[0m | \u001b[0m 4.903   \u001b[0m | \u001b[0m 178.1   \u001b[0m | \u001b[0m 643.5   \u001b[0m | \u001b[0m 247.0   \u001b[0m |\n",
      "@@@@@@@@@@@@@@@@@@@@@@@@@@@@@@@@@@@@@@@@@@@@@@@@@@\n",
      "start\n",
      "@@@@@@@@@@@@@@@@@@@@@@@@@@@@@@@@@@@@@@@@@@@@@@@@@@\n",
      "[LightGBM] [Info] Number of positive: 1101894, number of negative: 581083\n",
      "[LightGBM] [Warning] Auto-choosing row-wise multi-threading, the overhead of testing was 0.022415 seconds.\n",
      "You can set `force_row_wise=true` to remove the overhead.\n",
      "And if memory is not enough, you can set `force_col_wise=true`.\n",
      "[LightGBM] [Info] Total Bins 19325\n",
      "[LightGBM] [Info] Number of data points in the train set: 1682977, number of used features: 16\n",
      "[LightGBM] [Info] [binary:BoostFromScore]: pavg=0.654729 -> initscore=0.639892\n",
      "[LightGBM] [Info] Start training from score 0.639892\n",
      "[LightGBM] [Info] Number of positive: 1101894, number of negative: 581083\n",
      "[LightGBM] [Warning] Auto-choosing row-wise multi-threading, the overhead of testing was 0.021907 seconds.\n",
      "You can set `force_row_wise=true` to remove the overhead.\n",
      "And if memory is not enough, you can set `force_col_wise=true`.\n",
      "[LightGBM] [Info] Total Bins 19307\n",
      "[LightGBM] [Info] Number of data points in the train set: 1682977, number of used features: 16\n",
      "[LightGBM] [Info] [binary:BoostFromScore]: pavg=0.654729 -> initscore=0.639892\n",
      "[LightGBM] [Info] Start training from score 0.639892\n",
      "[LightGBM] [Info] Number of positive: 1101894, number of negative: 581084\n",
      "[LightGBM] [Warning] Auto-choosing row-wise multi-threading, the overhead of testing was 0.023632 seconds.\n",
      "You can set `force_row_wise=true` to remove the overhead.\n",
      "And if memory is not enough, you can set `force_col_wise=true`.\n",
      "[LightGBM] [Info] Total Bins 19319\n",
      "[LightGBM] [Info] Number of data points in the train set: 1682978, number of used features: 16\n",
      "[LightGBM] [Info] [binary:BoostFromScore]: pavg=0.654729 -> initscore=0.639890\n",
      "[LightGBM] [Info] Start training from score 0.639890\n",
      "0.499337872789756\n",
      "| \u001b[0m 10      \u001b[0m | \u001b[0m 0.4993  \u001b[0m | \u001b[0m 0.9536  \u001b[0m | \u001b[0m 0.5449  \u001b[0m | \u001b[0m 6.762   \u001b[0m | \u001b[0m 1.704   \u001b[0m | \u001b[0m 177.4   \u001b[0m | \u001b[0m 640.2   \u001b[0m | \u001b[0m 246.4   \u001b[0m |\n",
      "@@@@@@@@@@@@@@@@@@@@@@@@@@@@@@@@@@@@@@@@@@@@@@@@@@\n",
      "start\n",
      "@@@@@@@@@@@@@@@@@@@@@@@@@@@@@@@@@@@@@@@@@@@@@@@@@@\n",
      "[LightGBM] [Info] Number of positive: 1101894, number of negative: 581083\n",
      "[LightGBM] [Warning] Auto-choosing row-wise multi-threading, the overhead of testing was 0.034827 seconds.\n",
      "You can set `force_row_wise=true` to remove the overhead.\n",
      "And if memory is not enough, you can set `force_col_wise=true`.\n",
      "[LightGBM] [Info] Total Bins 19265\n",
      "[LightGBM] [Info] Number of data points in the train set: 1682977, number of used features: 16\n",
      "[LightGBM] [Info] [binary:BoostFromScore]: pavg=0.654729 -> initscore=0.639892\n",
      "[LightGBM] [Info] Start training from score 0.639892\n",
      "[LightGBM] [Info] Number of positive: 1101894, number of negative: 581083\n",
      "[LightGBM] [Warning] Auto-choosing row-wise multi-threading, the overhead of testing was 0.033483 seconds.\n",
      "You can set `force_row_wise=true` to remove the overhead.\n",
      "And if memory is not enough, you can set `force_col_wise=true`.\n",
      "[LightGBM] [Info] Total Bins 19247\n",
      "[LightGBM] [Info] Number of data points in the train set: 1682977, number of used features: 16\n",
      "[LightGBM] [Info] [binary:BoostFromScore]: pavg=0.654729 -> initscore=0.639892\n",
      "[LightGBM] [Info] Start training from score 0.639892\n",
      "[LightGBM] [Info] Number of positive: 1101894, number of negative: 581084\n",
      "[LightGBM] [Warning] Auto-choosing row-wise multi-threading, the overhead of testing was 0.032816 seconds.\n",
      "You can set `force_row_wise=true` to remove the overhead.\n",
      "And if memory is not enough, you can set `force_col_wise=true`.\n",
      "[LightGBM] [Info] Total Bins 19259\n",
      "[LightGBM] [Info] Number of data points in the train set: 1682978, number of used features: 16\n",
      "[LightGBM] [Info] [binary:BoostFromScore]: pavg=0.654729 -> initscore=0.639890\n",
      "[LightGBM] [Info] Start training from score 0.639890\n",
      "0.49926421899546386\n",
      "| \u001b[0m 11      \u001b[0m | \u001b[0m 0.4993  \u001b[0m | \u001b[0m 0.6679  \u001b[0m | \u001b[0m 0.8229  \u001b[0m | \u001b[0m 7.179   \u001b[0m | \u001b[0m 9.145   \u001b[0m | \u001b[0m 171.1   \u001b[0m | \u001b[0m 651.4   \u001b[0m | \u001b[0m 271.2   \u001b[0m |\n",
      "@@@@@@@@@@@@@@@@@@@@@@@@@@@@@@@@@@@@@@@@@@@@@@@@@@\n",
      "start\n",
      "@@@@@@@@@@@@@@@@@@@@@@@@@@@@@@@@@@@@@@@@@@@@@@@@@@\n",
      "[LightGBM] [Info] Number of positive: 1101894, number of negative: 581083\n",
      "[LightGBM] [Warning] Auto-choosing row-wise multi-threading, the overhead of testing was 0.031930 seconds.\n",
      "You can set `force_row_wise=true` to remove the overhead.\n",
      "And if memory is not enough, you can set `force_col_wise=true`.\n",
      "[LightGBM] [Info] Total Bins 19335\n",
      "[LightGBM] [Info] Number of data points in the train set: 1682977, number of used features: 16\n",
      "[LightGBM] [Info] [binary:BoostFromScore]: pavg=0.654729 -> initscore=0.639892\n",
      "[LightGBM] [Info] Start training from score 0.639892\n",
      "[LightGBM] [Info] Number of positive: 1101894, number of negative: 581083\n",
      "[LightGBM] [Warning] Auto-choosing row-wise multi-threading, the overhead of testing was 0.033664 seconds.\n",
      "You can set `force_row_wise=true` to remove the overhead.\n",
      "And if memory is not enough, you can set `force_col_wise=true`.\n",
      "[LightGBM] [Info] Total Bins 19317\n",
      "[LightGBM] [Info] Number of data points in the train set: 1682977, number of used features: 16\n",
      "[LightGBM] [Info] [binary:BoostFromScore]: pavg=0.654729 -> initscore=0.639892\n",
      "[LightGBM] [Info] Start training from score 0.639892\n",
      "[LightGBM] [Info] Number of positive: 1101894, number of negative: 581084\n",
      "[LightGBM] [Warning] Auto-choosing row-wise multi-threading, the overhead of testing was 0.035002 seconds.\n",
      "You can set `force_row_wise=true` to remove the overhead.\n",
      "And if memory is not enough, you can set `force_col_wise=true`.\n",
      "[LightGBM] [Info] Total Bins 19329\n",
      "[LightGBM] [Info] Number of data points in the train set: 1682978, number of used features: 16\n",
      "[LightGBM] [Info] [binary:BoostFromScore]: pavg=0.654729 -> initscore=0.639890\n",
      "[LightGBM] [Info] Start training from score 0.639890\n",
      "0.499341976800152\n",
      "| \u001b[0m 12      \u001b[0m | \u001b[0m 0.4993  \u001b[0m | \u001b[0m 0.5206  \u001b[0m | \u001b[0m 0.9012  \u001b[0m | \u001b[0m 0.6585  \u001b[0m | \u001b[0m 7.539   \u001b[0m | \u001b[0m 178.8   \u001b[0m | \u001b[0m 635.5   \u001b[0m | \u001b[0m 294.3   \u001b[0m |\n",
      "=============================================================================================================\n"
     ]
    }
   ],
   "source": [
    "lgbm_bo.maximize(init_points=2, n_iter=10, acq='ei')"
   ]
  },
  {
   "cell_type": "markdown",
   "metadata": {},
   "source": [
    "### Inference"
   ]
  },
  {
   "cell_type": "code",
   "execution_count": 19,
   "metadata": {},
   "outputs": [
    {
     "name": "stdout",
     "output_type": "stream",
     "text": [
      "writing prediction : output/output6_19_17_30.csv\n"
     ]
    }
   ],
   "source": [
    "total_preds = model.predict(test[FEATS])\n",
    "\n",
    "# SAVE OUTPUT\n",
    "output_dir = 'output/'\n",
    "write_path = os.path.join(output_dir, f\"output\" + \"_\".join(map(str, [now.month, now.day, now.hour, now.minute])) +  \".csv\")\n",
    "if not os.path.exists(output_dir):\n",
    "    os.makedirs(output_dir)    \n",
    "with open(write_path, 'w', encoding='utf8') as w:\n",
    "    print(\"writing prediction : {}\".format(write_path))\n",
    "    w.write(\"id,prediction\\n\")\n",
    "    for id, p in enumerate(total_preds):\n",
    "        w.write('{},{}\\n'.format(id,p))"
   ]
  }
 ],
 "metadata": {
  "kernelspec": {
   "display_name": "Python 3",
   "language": "python",
   "name": "python3"
  },
  "language_info": {
   "codemirror_mode": {
    "name": "ipython",
    "version": 3
   },
   "file_extension": ".py",
   "mimetype": "text/x-python",
   "name": "python",
   "nbconvert_exporter": "python",
   "pygments_lexer": "ipython3",
   "version": "3.7.7"
  },
  "toc": {
   "base_numbering": 1,
   "nav_menu": {},
   "number_sections": false,
   "sideBar": true,
   "skip_h1_title": false,
   "title_cell": "Table of Contents",
   "title_sidebar": "Contents",
   "toc_cell": false,
   "toc_position": {},
   "toc_section_display": true,
   "toc_window_display": true
  }
 },
 "nbformat": 4,
 "nbformat_minor": 4
}
